{
  "cells": [
    {
      "cell_type": "markdown",
      "metadata": {
        "id": "aab003f9-96f1-43f8-9451-41fbea880b3b"
      },
      "source": [
        "<p style=\"text-align:center\">\n",
        "    <a href=\"https://skills.network/?utm_medium=Exinfluencer&utm_source=Exinfluencer&utm_content=000026UJ&utm_term=10006555&utm_id=NA-SkillsNetwork-Channel-SkillsNetworkCoursesIBMML321ENSkillsNetwork817-2022-01-01\" target=\"_blank\">\n",
        "    <img src=\"https://cf-courses-data.s3.us.cloud-object-storage.appdomain.cloud/assets/logos/SN_web_lightmode.png\" width=\"200\" alt=\"Skills Network Logo\"  />\n",
        "    </a>\n",
        "</p>\n"
      ]
    },
    {
      "cell_type": "markdown",
      "metadata": {
        "id": "07876001-d389-4a2b-8adc-b67eebbedaf6"
      },
      "source": [
        "# **Collaborative Filtering based Recommender System using Non-negative Matrix Factorization**\n"
      ]
    },
    {
      "cell_type": "markdown",
      "metadata": {
        "id": "1fa20a0a-ad7f-4127-96f0-5b2c14cad777"
      },
      "source": [
        "Estimated time needed: **60** minutes\n"
      ]
    },
    {
      "cell_type": "markdown",
      "metadata": {
        "id": "33f2a723-d2fb-4ee3-8c21-a748d186bf3c"
      },
      "source": [
        "In the previous lab, we have performed KNN on user-item interaction matrix to estimate the rating of unknown items based on the aggregation of the user's K nearest neighbor's ratings. Finding nearest neighbors are based on similarity measurements among users or items with big similarity matrices.\n"
      ]
    },
    {
      "cell_type": "markdown",
      "metadata": {
        "id": "c6bcf204-ef1e-411e-bfef-75dcac31b287"
      },
      "source": [
        "The KNN algorithm is memory-based which means we need to keep all instances for prediction and maintain a big similarity matrix. These can be infeasible if our user/item scale is large, for example, 1 million users will require a 1 million by 1 million similarity matrix, which is very hard to load into RAM for most computation environments.\n"
      ]
    },
    {
      "cell_type": "markdown",
      "metadata": {
        "id": "5b5357fb-d72e-4af3-b712-fd6dd5c8a882"
      },
      "source": [
        "#### Non-negative matrix factorization\n"
      ]
    },
    {
      "cell_type": "markdown",
      "metadata": {
        "id": "b662d759-5963-4ebb-b8a6-39c0c1ecd98c"
      },
      "source": [
        "In the machine learning course, you have learned a dimensionality reduction algorithm called Non-negative matrix factorization (NMF), which decomposes a big sparse matrix into two smaller and dense matrices.\n",
        "\n",
        "Non-negative matrix factorization can be one solution to big matrix issues. The main idea is to decompose the big and sparse user-interaction into two smaller dense matrices, one represents the transformed user features and another represents the transformed item features.\n"
      ]
    },
    {
      "cell_type": "markdown",
      "metadata": {
        "id": "aca9a9a1-a302-4986-baf3-7287e6ba571e"
      },
      "source": [
        "An example is shown below, suppose we have a user-item interaction matrix $A$ with 10000 users and 100 items (10000 x 100), and its element `(j, k)` represents the rating of item `k` from user `j`. Then we could decompose $A$ into two smaller and dense matrices $U$ (10000 x 16) and $I$ (16 x 100). for user matrix $U$, each row vector is a transformed latent feature vector of a user, and for the item matrix $I$, each column is a transformed latent feature vector of an item.\n",
        "\n",
        "Here the dimension 16 is a hyperparameter defines the size of the hidden user and item features, which means now the shape of transposed user feature vector and item feature vector is now 16 x 1.\n"
      ]
    },
    {
      "cell_type": "markdown",
      "metadata": {
        "id": "078884f4-69a4-4d47-94c2-e973f8db689b"
      },
      "source": [
        "The magic here is when we multiply the row `j` of $U$ and column `k` of matrix $I$, we can get an estimation to the original rating $\\hat{r}_{jk}$.\n",
        "\n",
        "For example, if we preform the dot product user ones  row vector in $U$ and item ones  column vector in $I$, we can get the rating estimation of user one to item one, which is the element (1, 1) in the original interaction matrix $I$. This r\n"
      ]
    },
    {
      "cell_type": "markdown",
      "metadata": {
        "id": "288cd813-888d-4411-86d4-3f44153ab9ef"
      },
      "source": [
        "![](https://cf-courses-data.s3.us.cloud-object-storage.appdomain.cloud/IBM-ML321EN-SkillsNetwork/labs/module_4/images/nmf.png)\n"
      ]
    },
    {
      "cell_type": "markdown",
      "metadata": {
        "id": "e3f106b1-211f-476c-b2bc-c58b7667171d"
      },
      "source": [
        "Note $I$ is short for Items, and it is not an identity matrix.\n"
      ]
    },
    {
      "cell_type": "markdown",
      "metadata": {
        "id": "385a9441-88ea-4390-9d9f-1114e3f37f2f"
      },
      "source": [
        "Then how do we figure out the values in $U$ and $I$ exactly? Like many other machine learning processes, we could start by initializing the values of $U$ and $I$, then define the following distance or cost function to be minimized:\n"
      ]
    },
    {
      "cell_type": "markdown",
      "metadata": {
        "id": "e87ce1ae-d9aa-4177-82c9-cd6e46c180e2"
      },
      "source": [
        "$$\\sum_{r_{jk} \\in {train}} \\left(r_{jk} - \\hat{r}_{jk} \\right)^2,$$\n"
      ]
    },
    {
      "cell_type": "markdown",
      "metadata": {
        "id": "9ef01f77-502f-4b34-a389-864828fb6cff"
      },
      "source": [
        "where $\\hat{r}_{ij}$ is the dot product of $u_j^T$ and $i_k$:\n"
      ]
    },
    {
      "cell_type": "markdown",
      "metadata": {
        "id": "dabb9bb4-66bb-4600-936b-0217507efcbe"
      },
      "source": [
        "$$\\hat{r}_{jk} = u_j^Ti_k$$\n"
      ]
    },
    {
      "cell_type": "markdown",
      "metadata": {
        "id": "a716ea01-c751-496a-8a04-19fd5ae5511c"
      },
      "source": [
        "The cost function can be optimized using stochastic gradient descent (SGD) or other optimization algorithms, just like in training the weights in a logistic regression model (there are several additional steps so the matrices have no negative elements) .\n"
      ]
    },
    {
      "cell_type": "markdown",
      "metadata": {
        "id": "54751945-2555-4afc-bf77-d1c32c656cff"
      },
      "source": [
        "## Objectives\n"
      ]
    },
    {
      "cell_type": "markdown",
      "metadata": {
        "id": "45c0c137-e859-4e4c-9397-fb8ae84efdc2"
      },
      "source": [
        "After completing this lab you will be able to:\n"
      ]
    },
    {
      "cell_type": "markdown",
      "metadata": {
        "id": "3968754f-5182-441b-87a8-879d1b3f0379"
      },
      "source": [
        "* Perform NMF-based collaborative filtering on the user-item matrix\n"
      ]
    },
    {
      "cell_type": "markdown",
      "metadata": {
        "id": "9e83947c-ba74-47db-ba63-e130ff07ad17"
      },
      "source": [
        "----\n"
      ]
    },
    {
      "cell_type": "markdown",
      "metadata": {
        "id": "e64bffbe-bc3c-4c04-875a-594f1ae18780"
      },
      "source": [
        "### Load and exploring dataset\n"
      ]
    },
    {
      "cell_type": "markdown",
      "metadata": {
        "id": "8fcb76cd-eb81-4d5e-8e68-509038c6708f"
      },
      "source": [
        "Let's first load our dataset, i.e., the user-item (learn-course) interaction matrix\n"
      ]
    },
    {
      "cell_type": "code",
      "metadata": {
        "id": "da45993e-c7c0-4736-84ce-7b3c9f6befdb"
      },
      "outputs": [],
      "source": [
        "import pandas as pd"
      ],
      "execution_count": 1
    },
    {
      "cell_type": "code",
      "metadata": {
        "id": "b6c3cde2-73b5-4f66-b783-1fea5bb0034a"
      },
      "outputs": [],
      "source": [
        "rating_url = \"https://cf-courses-data.s3.us.cloud-object-storage.appdomain.cloud/IBM-ML321EN-SkillsNetwork/labs/datasets/ratings.csv\"\n",
        "rating_df = pd.read_csv(rating_url)"
      ],
      "execution_count": 2
    },
    {
      "cell_type": "code",
      "metadata": {
        "colab": {
          "base_uri": "https://localhost:8080/",
          "height": 206
        },
        "id": "6779a066-fb24-4a9d-a018-b9eca2e9309b",
        "outputId": "8d0622ae-9a8e-4546-ba2c-9b43bd98616e"
      },
      "outputs": [
        {
          "output_type": "execute_result",
          "data": {
            "text/plain": [
              "      user        item  rating\n",
              "0  1889878    CC0101EN     3.0\n",
              "1  1342067    CL0101EN     3.0\n",
              "2  1990814  ML0120ENv3     3.0\n",
              "3   380098    BD0211EN     3.0\n",
              "4   779563    DS0101EN     3.0"
            ],
            "text/html": [
              "\n",
              "  <div id=\"df-9f71e971-6d6a-4462-b7fb-77ed10c43ede\" class=\"colab-df-container\">\n",
              "    <div>\n",
              "<style scoped>\n",
              "    .dataframe tbody tr th:only-of-type {\n",
              "        vertical-align: middle;\n",
              "    }\n",
              "\n",
              "    .dataframe tbody tr th {\n",
              "        vertical-align: top;\n",
              "    }\n",
              "\n",
              "    .dataframe thead th {\n",
              "        text-align: right;\n",
              "    }\n",
              "</style>\n",
              "<table border=\"1\" class=\"dataframe\">\n",
              "  <thead>\n",
              "    <tr style=\"text-align: right;\">\n",
              "      <th></th>\n",
              "      <th>user</th>\n",
              "      <th>item</th>\n",
              "      <th>rating</th>\n",
              "    </tr>\n",
              "  </thead>\n",
              "  <tbody>\n",
              "    <tr>\n",
              "      <th>0</th>\n",
              "      <td>1889878</td>\n",
              "      <td>CC0101EN</td>\n",
              "      <td>3.0</td>\n",
              "    </tr>\n",
              "    <tr>\n",
              "      <th>1</th>\n",
              "      <td>1342067</td>\n",
              "      <td>CL0101EN</td>\n",
              "      <td>3.0</td>\n",
              "    </tr>\n",
              "    <tr>\n",
              "      <th>2</th>\n",
              "      <td>1990814</td>\n",
              "      <td>ML0120ENv3</td>\n",
              "      <td>3.0</td>\n",
              "    </tr>\n",
              "    <tr>\n",
              "      <th>3</th>\n",
              "      <td>380098</td>\n",
              "      <td>BD0211EN</td>\n",
              "      <td>3.0</td>\n",
              "    </tr>\n",
              "    <tr>\n",
              "      <th>4</th>\n",
              "      <td>779563</td>\n",
              "      <td>DS0101EN</td>\n",
              "      <td>3.0</td>\n",
              "    </tr>\n",
              "  </tbody>\n",
              "</table>\n",
              "</div>\n",
              "    <div class=\"colab-df-buttons\">\n",
              "\n",
              "  <div class=\"colab-df-container\">\n",
              "    <button class=\"colab-df-convert\" onclick=\"convertToInteractive('df-9f71e971-6d6a-4462-b7fb-77ed10c43ede')\"\n",
              "            title=\"Convert this dataframe to an interactive table.\"\n",
              "            style=\"display:none;\">\n",
              "\n",
              "  <svg xmlns=\"http://www.w3.org/2000/svg\" height=\"24px\" viewBox=\"0 -960 960 960\">\n",
              "    <path d=\"M120-120v-720h720v720H120Zm60-500h600v-160H180v160Zm220 220h160v-160H400v160Zm0 220h160v-160H400v160ZM180-400h160v-160H180v160Zm440 0h160v-160H620v160ZM180-180h160v-160H180v160Zm440 0h160v-160H620v160Z\"/>\n",
              "  </svg>\n",
              "    </button>\n",
              "\n",
              "  <style>\n",
              "    .colab-df-container {\n",
              "      display:flex;\n",
              "      gap: 12px;\n",
              "    }\n",
              "\n",
              "    .colab-df-convert {\n",
              "      background-color: #E8F0FE;\n",
              "      border: none;\n",
              "      border-radius: 50%;\n",
              "      cursor: pointer;\n",
              "      display: none;\n",
              "      fill: #1967D2;\n",
              "      height: 32px;\n",
              "      padding: 0 0 0 0;\n",
              "      width: 32px;\n",
              "    }\n",
              "\n",
              "    .colab-df-convert:hover {\n",
              "      background-color: #E2EBFA;\n",
              "      box-shadow: 0px 1px 2px rgba(60, 64, 67, 0.3), 0px 1px 3px 1px rgba(60, 64, 67, 0.15);\n",
              "      fill: #174EA6;\n",
              "    }\n",
              "\n",
              "    .colab-df-buttons div {\n",
              "      margin-bottom: 4px;\n",
              "    }\n",
              "\n",
              "    [theme=dark] .colab-df-convert {\n",
              "      background-color: #3B4455;\n",
              "      fill: #D2E3FC;\n",
              "    }\n",
              "\n",
              "    [theme=dark] .colab-df-convert:hover {\n",
              "      background-color: #434B5C;\n",
              "      box-shadow: 0px 1px 3px 1px rgba(0, 0, 0, 0.15);\n",
              "      filter: drop-shadow(0px 1px 2px rgba(0, 0, 0, 0.3));\n",
              "      fill: #FFFFFF;\n",
              "    }\n",
              "  </style>\n",
              "\n",
              "    <script>\n",
              "      const buttonEl =\n",
              "        document.querySelector('#df-9f71e971-6d6a-4462-b7fb-77ed10c43ede button.colab-df-convert');\n",
              "      buttonEl.style.display =\n",
              "        google.colab.kernel.accessAllowed ? 'block' : 'none';\n",
              "\n",
              "      async function convertToInteractive(key) {\n",
              "        const element = document.querySelector('#df-9f71e971-6d6a-4462-b7fb-77ed10c43ede');\n",
              "        const dataTable =\n",
              "          await google.colab.kernel.invokeFunction('convertToInteractive',\n",
              "                                                    [key], {});\n",
              "        if (!dataTable) return;\n",
              "\n",
              "        const docLinkHtml = 'Like what you see? Visit the ' +\n",
              "          '<a target=\"_blank\" href=https://colab.research.google.com/notebooks/data_table.ipynb>data table notebook</a>'\n",
              "          + ' to learn more about interactive tables.';\n",
              "        element.innerHTML = '';\n",
              "        dataTable['output_type'] = 'display_data';\n",
              "        await google.colab.output.renderOutput(dataTable, element);\n",
              "        const docLink = document.createElement('div');\n",
              "        docLink.innerHTML = docLinkHtml;\n",
              "        element.appendChild(docLink);\n",
              "      }\n",
              "    </script>\n",
              "  </div>\n",
              "\n",
              "\n",
              "<div id=\"df-d3ff7960-63df-44ea-812f-2bc1c6fc10fd\">\n",
              "  <button class=\"colab-df-quickchart\" onclick=\"quickchart('df-d3ff7960-63df-44ea-812f-2bc1c6fc10fd')\"\n",
              "            title=\"Suggest charts.\"\n",
              "            style=\"display:none;\">\n",
              "\n",
              "<svg xmlns=\"http://www.w3.org/2000/svg\" height=\"24px\"viewBox=\"0 0 24 24\"\n",
              "     width=\"24px\">\n",
              "    <g>\n",
              "        <path d=\"M19 3H5c-1.1 0-2 .9-2 2v14c0 1.1.9 2 2 2h14c1.1 0 2-.9 2-2V5c0-1.1-.9-2-2-2zM9 17H7v-7h2v7zm4 0h-2V7h2v10zm4 0h-2v-4h2v4z\"/>\n",
              "    </g>\n",
              "</svg>\n",
              "  </button>\n",
              "\n",
              "<style>\n",
              "  .colab-df-quickchart {\n",
              "      --bg-color: #E8F0FE;\n",
              "      --fill-color: #1967D2;\n",
              "      --hover-bg-color: #E2EBFA;\n",
              "      --hover-fill-color: #174EA6;\n",
              "      --disabled-fill-color: #AAA;\n",
              "      --disabled-bg-color: #DDD;\n",
              "  }\n",
              "\n",
              "  [theme=dark] .colab-df-quickchart {\n",
              "      --bg-color: #3B4455;\n",
              "      --fill-color: #D2E3FC;\n",
              "      --hover-bg-color: #434B5C;\n",
              "      --hover-fill-color: #FFFFFF;\n",
              "      --disabled-bg-color: #3B4455;\n",
              "      --disabled-fill-color: #666;\n",
              "  }\n",
              "\n",
              "  .colab-df-quickchart {\n",
              "    background-color: var(--bg-color);\n",
              "    border: none;\n",
              "    border-radius: 50%;\n",
              "    cursor: pointer;\n",
              "    display: none;\n",
              "    fill: var(--fill-color);\n",
              "    height: 32px;\n",
              "    padding: 0;\n",
              "    width: 32px;\n",
              "  }\n",
              "\n",
              "  .colab-df-quickchart:hover {\n",
              "    background-color: var(--hover-bg-color);\n",
              "    box-shadow: 0 1px 2px rgba(60, 64, 67, 0.3), 0 1px 3px 1px rgba(60, 64, 67, 0.15);\n",
              "    fill: var(--button-hover-fill-color);\n",
              "  }\n",
              "\n",
              "  .colab-df-quickchart-complete:disabled,\n",
              "  .colab-df-quickchart-complete:disabled:hover {\n",
              "    background-color: var(--disabled-bg-color);\n",
              "    fill: var(--disabled-fill-color);\n",
              "    box-shadow: none;\n",
              "  }\n",
              "\n",
              "  .colab-df-spinner {\n",
              "    border: 2px solid var(--fill-color);\n",
              "    border-color: transparent;\n",
              "    border-bottom-color: var(--fill-color);\n",
              "    animation:\n",
              "      spin 1s steps(1) infinite;\n",
              "  }\n",
              "\n",
              "  @keyframes spin {\n",
              "    0% {\n",
              "      border-color: transparent;\n",
              "      border-bottom-color: var(--fill-color);\n",
              "      border-left-color: var(--fill-color);\n",
              "    }\n",
              "    20% {\n",
              "      border-color: transparent;\n",
              "      border-left-color: var(--fill-color);\n",
              "      border-top-color: var(--fill-color);\n",
              "    }\n",
              "    30% {\n",
              "      border-color: transparent;\n",
              "      border-left-color: var(--fill-color);\n",
              "      border-top-color: var(--fill-color);\n",
              "      border-right-color: var(--fill-color);\n",
              "    }\n",
              "    40% {\n",
              "      border-color: transparent;\n",
              "      border-right-color: var(--fill-color);\n",
              "      border-top-color: var(--fill-color);\n",
              "    }\n",
              "    60% {\n",
              "      border-color: transparent;\n",
              "      border-right-color: var(--fill-color);\n",
              "    }\n",
              "    80% {\n",
              "      border-color: transparent;\n",
              "      border-right-color: var(--fill-color);\n",
              "      border-bottom-color: var(--fill-color);\n",
              "    }\n",
              "    90% {\n",
              "      border-color: transparent;\n",
              "      border-bottom-color: var(--fill-color);\n",
              "    }\n",
              "  }\n",
              "</style>\n",
              "\n",
              "  <script>\n",
              "    async function quickchart(key) {\n",
              "      const quickchartButtonEl =\n",
              "        document.querySelector('#' + key + ' button');\n",
              "      quickchartButtonEl.disabled = true;  // To prevent multiple clicks.\n",
              "      quickchartButtonEl.classList.add('colab-df-spinner');\n",
              "      try {\n",
              "        const charts = await google.colab.kernel.invokeFunction(\n",
              "            'suggestCharts', [key], {});\n",
              "      } catch (error) {\n",
              "        console.error('Error during call to suggestCharts:', error);\n",
              "      }\n",
              "      quickchartButtonEl.classList.remove('colab-df-spinner');\n",
              "      quickchartButtonEl.classList.add('colab-df-quickchart-complete');\n",
              "    }\n",
              "    (() => {\n",
              "      let quickchartButtonEl =\n",
              "        document.querySelector('#df-d3ff7960-63df-44ea-812f-2bc1c6fc10fd button');\n",
              "      quickchartButtonEl.style.display =\n",
              "        google.colab.kernel.accessAllowed ? 'block' : 'none';\n",
              "    })();\n",
              "  </script>\n",
              "</div>\n",
              "    </div>\n",
              "  </div>\n"
            ]
          },
          "metadata": {},
          "execution_count": 3
        }
      ],
      "source": [
        "rating_df.head()"
      ],
      "execution_count": 3
    },
    {
      "cell_type": "markdown",
      "metadata": {
        "id": "acddbf1c-f146-4424-9c04-932e59cdc00f"
      },
      "source": [
        "The dataset contains three columns, `user id`, `item id`, and `the rating`. Note that this matrix is presented as the dense or vertical form, you may convert it using `pivot` to the original sparse matrix:\n"
      ]
    },
    {
      "cell_type": "code",
      "metadata": {
        "colab": {
          "base_uri": "https://localhost:8080/",
          "height": 256
        },
        "id": "64a5b72c-07cf-493a-b2ad-34657654e6e8",
        "outputId": "59ee57e5-2249-499a-b5fe-39b08866f3da"
      },
      "outputs": [
        {
          "output_type": "execute_result",
          "data": {
            "text/plain": [
              "   user  AI0111EN  BC0101EN  BC0201EN  BC0202EN  BD0101EN  BD0111EN  BD0115EN  \\\n",
              "0     2       0.0       3.0       0.0       0.0       3.0       2.0       0.0   \n",
              "1     4       0.0       0.0       0.0       0.0       2.0       2.0       2.0   \n",
              "2     5       2.0       2.0       2.0       0.0       2.0       0.0       0.0   \n",
              "3     7       0.0       0.0       0.0       0.0       0.0       0.0       0.0   \n",
              "4     8       0.0       0.0       0.0       0.0       0.0       2.0       0.0   \n",
              "\n",
              "   BD0121EN  BD0123EN  ...  SW0201EN  TA0105  TA0105EN  TA0106EN  TMP0101EN  \\\n",
              "0       2.0       2.0  ...       0.0     2.0       0.0       3.0        0.0   \n",
              "1       2.0       2.0  ...       0.0     2.0       0.0       0.0        0.0   \n",
              "2       0.0       2.0  ...       0.0     0.0       2.0       2.0        2.0   \n",
              "3       0.0       0.0  ...       0.0     0.0       0.0       0.0        0.0   \n",
              "4       0.0       0.0  ...       0.0     0.0       0.0       0.0        0.0   \n",
              "\n",
              "   TMP0105EN  TMP0106  TMP107  WA0101EN  WA0103EN  \n",
              "0        2.0      2.0     0.0       3.0       0.0  \n",
              "1        2.0      2.0     0.0       2.0       2.0  \n",
              "2        2.0      2.0     2.0       0.0       2.0  \n",
              "3        0.0      0.0     0.0       0.0       0.0  \n",
              "4        0.0      0.0     0.0       0.0       0.0  \n",
              "\n",
              "[5 rows x 127 columns]"
            ],
            "text/html": [
              "\n",
              "  <div id=\"df-c1268d96-63e2-4c3d-b75f-c53b458410e3\" class=\"colab-df-container\">\n",
              "    <div>\n",
              "<style scoped>\n",
              "    .dataframe tbody tr th:only-of-type {\n",
              "        vertical-align: middle;\n",
              "    }\n",
              "\n",
              "    .dataframe tbody tr th {\n",
              "        vertical-align: top;\n",
              "    }\n",
              "\n",
              "    .dataframe thead th {\n",
              "        text-align: right;\n",
              "    }\n",
              "</style>\n",
              "<table border=\"1\" class=\"dataframe\">\n",
              "  <thead>\n",
              "    <tr style=\"text-align: right;\">\n",
              "      <th></th>\n",
              "      <th>user</th>\n",
              "      <th>AI0111EN</th>\n",
              "      <th>BC0101EN</th>\n",
              "      <th>BC0201EN</th>\n",
              "      <th>BC0202EN</th>\n",
              "      <th>BD0101EN</th>\n",
              "      <th>BD0111EN</th>\n",
              "      <th>BD0115EN</th>\n",
              "      <th>BD0121EN</th>\n",
              "      <th>BD0123EN</th>\n",
              "      <th>...</th>\n",
              "      <th>SW0201EN</th>\n",
              "      <th>TA0105</th>\n",
              "      <th>TA0105EN</th>\n",
              "      <th>TA0106EN</th>\n",
              "      <th>TMP0101EN</th>\n",
              "      <th>TMP0105EN</th>\n",
              "      <th>TMP0106</th>\n",
              "      <th>TMP107</th>\n",
              "      <th>WA0101EN</th>\n",
              "      <th>WA0103EN</th>\n",
              "    </tr>\n",
              "  </thead>\n",
              "  <tbody>\n",
              "    <tr>\n",
              "      <th>0</th>\n",
              "      <td>2</td>\n",
              "      <td>0.0</td>\n",
              "      <td>3.0</td>\n",
              "      <td>0.0</td>\n",
              "      <td>0.0</td>\n",
              "      <td>3.0</td>\n",
              "      <td>2.0</td>\n",
              "      <td>0.0</td>\n",
              "      <td>2.0</td>\n",
              "      <td>2.0</td>\n",
              "      <td>...</td>\n",
              "      <td>0.0</td>\n",
              "      <td>2.0</td>\n",
              "      <td>0.0</td>\n",
              "      <td>3.0</td>\n",
              "      <td>0.0</td>\n",
              "      <td>2.0</td>\n",
              "      <td>2.0</td>\n",
              "      <td>0.0</td>\n",
              "      <td>3.0</td>\n",
              "      <td>0.0</td>\n",
              "    </tr>\n",
              "    <tr>\n",
              "      <th>1</th>\n",
              "      <td>4</td>\n",
              "      <td>0.0</td>\n",
              "      <td>0.0</td>\n",
              "      <td>0.0</td>\n",
              "      <td>0.0</td>\n",
              "      <td>2.0</td>\n",
              "      <td>2.0</td>\n",
              "      <td>2.0</td>\n",
              "      <td>2.0</td>\n",
              "      <td>2.0</td>\n",
              "      <td>...</td>\n",
              "      <td>0.0</td>\n",
              "      <td>2.0</td>\n",
              "      <td>0.0</td>\n",
              "      <td>0.0</td>\n",
              "      <td>0.0</td>\n",
              "      <td>2.0</td>\n",
              "      <td>2.0</td>\n",
              "      <td>0.0</td>\n",
              "      <td>2.0</td>\n",
              "      <td>2.0</td>\n",
              "    </tr>\n",
              "    <tr>\n",
              "      <th>2</th>\n",
              "      <td>5</td>\n",
              "      <td>2.0</td>\n",
              "      <td>2.0</td>\n",
              "      <td>2.0</td>\n",
              "      <td>0.0</td>\n",
              "      <td>2.0</td>\n",
              "      <td>0.0</td>\n",
              "      <td>0.0</td>\n",
              "      <td>0.0</td>\n",
              "      <td>2.0</td>\n",
              "      <td>...</td>\n",
              "      <td>0.0</td>\n",
              "      <td>0.0</td>\n",
              "      <td>2.0</td>\n",
              "      <td>2.0</td>\n",
              "      <td>2.0</td>\n",
              "      <td>2.0</td>\n",
              "      <td>2.0</td>\n",
              "      <td>2.0</td>\n",
              "      <td>0.0</td>\n",
              "      <td>2.0</td>\n",
              "    </tr>\n",
              "    <tr>\n",
              "      <th>3</th>\n",
              "      <td>7</td>\n",
              "      <td>0.0</td>\n",
              "      <td>0.0</td>\n",
              "      <td>0.0</td>\n",
              "      <td>0.0</td>\n",
              "      <td>0.0</td>\n",
              "      <td>0.0</td>\n",
              "      <td>0.0</td>\n",
              "      <td>0.0</td>\n",
              "      <td>0.0</td>\n",
              "      <td>...</td>\n",
              "      <td>0.0</td>\n",
              "      <td>0.0</td>\n",
              "      <td>0.0</td>\n",
              "      <td>0.0</td>\n",
              "      <td>0.0</td>\n",
              "      <td>0.0</td>\n",
              "      <td>0.0</td>\n",
              "      <td>0.0</td>\n",
              "      <td>0.0</td>\n",
              "      <td>0.0</td>\n",
              "    </tr>\n",
              "    <tr>\n",
              "      <th>4</th>\n",
              "      <td>8</td>\n",
              "      <td>0.0</td>\n",
              "      <td>0.0</td>\n",
              "      <td>0.0</td>\n",
              "      <td>0.0</td>\n",
              "      <td>0.0</td>\n",
              "      <td>2.0</td>\n",
              "      <td>0.0</td>\n",
              "      <td>0.0</td>\n",
              "      <td>0.0</td>\n",
              "      <td>...</td>\n",
              "      <td>0.0</td>\n",
              "      <td>0.0</td>\n",
              "      <td>0.0</td>\n",
              "      <td>0.0</td>\n",
              "      <td>0.0</td>\n",
              "      <td>0.0</td>\n",
              "      <td>0.0</td>\n",
              "      <td>0.0</td>\n",
              "      <td>0.0</td>\n",
              "      <td>0.0</td>\n",
              "    </tr>\n",
              "  </tbody>\n",
              "</table>\n",
              "<p>5 rows × 127 columns</p>\n",
              "</div>\n",
              "    <div class=\"colab-df-buttons\">\n",
              "\n",
              "  <div class=\"colab-df-container\">\n",
              "    <button class=\"colab-df-convert\" onclick=\"convertToInteractive('df-c1268d96-63e2-4c3d-b75f-c53b458410e3')\"\n",
              "            title=\"Convert this dataframe to an interactive table.\"\n",
              "            style=\"display:none;\">\n",
              "\n",
              "  <svg xmlns=\"http://www.w3.org/2000/svg\" height=\"24px\" viewBox=\"0 -960 960 960\">\n",
              "    <path d=\"M120-120v-720h720v720H120Zm60-500h600v-160H180v160Zm220 220h160v-160H400v160Zm0 220h160v-160H400v160ZM180-400h160v-160H180v160Zm440 0h160v-160H620v160ZM180-180h160v-160H180v160Zm440 0h160v-160H620v160Z\"/>\n",
              "  </svg>\n",
              "    </button>\n",
              "\n",
              "  <style>\n",
              "    .colab-df-container {\n",
              "      display:flex;\n",
              "      gap: 12px;\n",
              "    }\n",
              "\n",
              "    .colab-df-convert {\n",
              "      background-color: #E8F0FE;\n",
              "      border: none;\n",
              "      border-radius: 50%;\n",
              "      cursor: pointer;\n",
              "      display: none;\n",
              "      fill: #1967D2;\n",
              "      height: 32px;\n",
              "      padding: 0 0 0 0;\n",
              "      width: 32px;\n",
              "    }\n",
              "\n",
              "    .colab-df-convert:hover {\n",
              "      background-color: #E2EBFA;\n",
              "      box-shadow: 0px 1px 2px rgba(60, 64, 67, 0.3), 0px 1px 3px 1px rgba(60, 64, 67, 0.15);\n",
              "      fill: #174EA6;\n",
              "    }\n",
              "\n",
              "    .colab-df-buttons div {\n",
              "      margin-bottom: 4px;\n",
              "    }\n",
              "\n",
              "    [theme=dark] .colab-df-convert {\n",
              "      background-color: #3B4455;\n",
              "      fill: #D2E3FC;\n",
              "    }\n",
              "\n",
              "    [theme=dark] .colab-df-convert:hover {\n",
              "      background-color: #434B5C;\n",
              "      box-shadow: 0px 1px 3px 1px rgba(0, 0, 0, 0.15);\n",
              "      filter: drop-shadow(0px 1px 2px rgba(0, 0, 0, 0.3));\n",
              "      fill: #FFFFFF;\n",
              "    }\n",
              "  </style>\n",
              "\n",
              "    <script>\n",
              "      const buttonEl =\n",
              "        document.querySelector('#df-c1268d96-63e2-4c3d-b75f-c53b458410e3 button.colab-df-convert');\n",
              "      buttonEl.style.display =\n",
              "        google.colab.kernel.accessAllowed ? 'block' : 'none';\n",
              "\n",
              "      async function convertToInteractive(key) {\n",
              "        const element = document.querySelector('#df-c1268d96-63e2-4c3d-b75f-c53b458410e3');\n",
              "        const dataTable =\n",
              "          await google.colab.kernel.invokeFunction('convertToInteractive',\n",
              "                                                    [key], {});\n",
              "        if (!dataTable) return;\n",
              "\n",
              "        const docLinkHtml = 'Like what you see? Visit the ' +\n",
              "          '<a target=\"_blank\" href=https://colab.research.google.com/notebooks/data_table.ipynb>data table notebook</a>'\n",
              "          + ' to learn more about interactive tables.';\n",
              "        element.innerHTML = '';\n",
              "        dataTable['output_type'] = 'display_data';\n",
              "        await google.colab.output.renderOutput(dataTable, element);\n",
              "        const docLink = document.createElement('div');\n",
              "        docLink.innerHTML = docLinkHtml;\n",
              "        element.appendChild(docLink);\n",
              "      }\n",
              "    </script>\n",
              "  </div>\n",
              "\n",
              "\n",
              "<div id=\"df-e46434a6-240a-49b8-be7f-09fb5a47be2f\">\n",
              "  <button class=\"colab-df-quickchart\" onclick=\"quickchart('df-e46434a6-240a-49b8-be7f-09fb5a47be2f')\"\n",
              "            title=\"Suggest charts.\"\n",
              "            style=\"display:none;\">\n",
              "\n",
              "<svg xmlns=\"http://www.w3.org/2000/svg\" height=\"24px\"viewBox=\"0 0 24 24\"\n",
              "     width=\"24px\">\n",
              "    <g>\n",
              "        <path d=\"M19 3H5c-1.1 0-2 .9-2 2v14c0 1.1.9 2 2 2h14c1.1 0 2-.9 2-2V5c0-1.1-.9-2-2-2zM9 17H7v-7h2v7zm4 0h-2V7h2v10zm4 0h-2v-4h2v4z\"/>\n",
              "    </g>\n",
              "</svg>\n",
              "  </button>\n",
              "\n",
              "<style>\n",
              "  .colab-df-quickchart {\n",
              "      --bg-color: #E8F0FE;\n",
              "      --fill-color: #1967D2;\n",
              "      --hover-bg-color: #E2EBFA;\n",
              "      --hover-fill-color: #174EA6;\n",
              "      --disabled-fill-color: #AAA;\n",
              "      --disabled-bg-color: #DDD;\n",
              "  }\n",
              "\n",
              "  [theme=dark] .colab-df-quickchart {\n",
              "      --bg-color: #3B4455;\n",
              "      --fill-color: #D2E3FC;\n",
              "      --hover-bg-color: #434B5C;\n",
              "      --hover-fill-color: #FFFFFF;\n",
              "      --disabled-bg-color: #3B4455;\n",
              "      --disabled-fill-color: #666;\n",
              "  }\n",
              "\n",
              "  .colab-df-quickchart {\n",
              "    background-color: var(--bg-color);\n",
              "    border: none;\n",
              "    border-radius: 50%;\n",
              "    cursor: pointer;\n",
              "    display: none;\n",
              "    fill: var(--fill-color);\n",
              "    height: 32px;\n",
              "    padding: 0;\n",
              "    width: 32px;\n",
              "  }\n",
              "\n",
              "  .colab-df-quickchart:hover {\n",
              "    background-color: var(--hover-bg-color);\n",
              "    box-shadow: 0 1px 2px rgba(60, 64, 67, 0.3), 0 1px 3px 1px rgba(60, 64, 67, 0.15);\n",
              "    fill: var(--button-hover-fill-color);\n",
              "  }\n",
              "\n",
              "  .colab-df-quickchart-complete:disabled,\n",
              "  .colab-df-quickchart-complete:disabled:hover {\n",
              "    background-color: var(--disabled-bg-color);\n",
              "    fill: var(--disabled-fill-color);\n",
              "    box-shadow: none;\n",
              "  }\n",
              "\n",
              "  .colab-df-spinner {\n",
              "    border: 2px solid var(--fill-color);\n",
              "    border-color: transparent;\n",
              "    border-bottom-color: var(--fill-color);\n",
              "    animation:\n",
              "      spin 1s steps(1) infinite;\n",
              "  }\n",
              "\n",
              "  @keyframes spin {\n",
              "    0% {\n",
              "      border-color: transparent;\n",
              "      border-bottom-color: var(--fill-color);\n",
              "      border-left-color: var(--fill-color);\n",
              "    }\n",
              "    20% {\n",
              "      border-color: transparent;\n",
              "      border-left-color: var(--fill-color);\n",
              "      border-top-color: var(--fill-color);\n",
              "    }\n",
              "    30% {\n",
              "      border-color: transparent;\n",
              "      border-left-color: var(--fill-color);\n",
              "      border-top-color: var(--fill-color);\n",
              "      border-right-color: var(--fill-color);\n",
              "    }\n",
              "    40% {\n",
              "      border-color: transparent;\n",
              "      border-right-color: var(--fill-color);\n",
              "      border-top-color: var(--fill-color);\n",
              "    }\n",
              "    60% {\n",
              "      border-color: transparent;\n",
              "      border-right-color: var(--fill-color);\n",
              "    }\n",
              "    80% {\n",
              "      border-color: transparent;\n",
              "      border-right-color: var(--fill-color);\n",
              "      border-bottom-color: var(--fill-color);\n",
              "    }\n",
              "    90% {\n",
              "      border-color: transparent;\n",
              "      border-bottom-color: var(--fill-color);\n",
              "    }\n",
              "  }\n",
              "</style>\n",
              "\n",
              "  <script>\n",
              "    async function quickchart(key) {\n",
              "      const quickchartButtonEl =\n",
              "        document.querySelector('#' + key + ' button');\n",
              "      quickchartButtonEl.disabled = true;  // To prevent multiple clicks.\n",
              "      quickchartButtonEl.classList.add('colab-df-spinner');\n",
              "      try {\n",
              "        const charts = await google.colab.kernel.invokeFunction(\n",
              "            'suggestCharts', [key], {});\n",
              "      } catch (error) {\n",
              "        console.error('Error during call to suggestCharts:', error);\n",
              "      }\n",
              "      quickchartButtonEl.classList.remove('colab-df-spinner');\n",
              "      quickchartButtonEl.classList.add('colab-df-quickchart-complete');\n",
              "    }\n",
              "    (() => {\n",
              "      let quickchartButtonEl =\n",
              "        document.querySelector('#df-e46434a6-240a-49b8-be7f-09fb5a47be2f button');\n",
              "      quickchartButtonEl.style.display =\n",
              "        google.colab.kernel.accessAllowed ? 'block' : 'none';\n",
              "    })();\n",
              "  </script>\n",
              "</div>\n",
              "    </div>\n",
              "  </div>\n"
            ]
          },
          "metadata": {},
          "execution_count": 4
        }
      ],
      "source": [
        "rating_sparse_df = rating_df.pivot(index='user', columns='item', values='rating').fillna(0).reset_index().rename_axis(index=None, columns=None)\n",
        "rating_sparse_df.head()"
      ],
      "execution_count": 4
    },
    {
      "cell_type": "markdown",
      "metadata": {
        "id": "0ff0610a-f35e-4b6a-a882-00d61b0e96a5"
      },
      "source": [
        "Next, you need to implement NMF-based collaborative filtering, and you may choose one of the two following implementation options:\n",
        "- The first one is to use `Surprise` which is a popular and easy-to-use Python recommendation system library.\n",
        "- The second way is to implement it with `numpy`, `pandas`, and `sklearn`. You may need to write a lot of low-level implementation code along the way.\n"
      ]
    },
    {
      "cell_type": "markdown",
      "metadata": {
        "id": "03a55544-dbb5-4697-acf5-c3b712399acf"
      },
      "source": [
        "## Implementation Option 1: Use **Surprise** library (recommended)\n"
      ]
    },
    {
      "cell_type": "markdown",
      "metadata": {
        "id": "e3c3b221-7ce8-4bdf-b5af-8a1b7aff57d4"
      },
      "source": [
        "*Surprise* is a Python scikit library for recommender systems. It is simple and comprehensive to build and test different recommendation algorithms. First let's install it:\n"
      ]
    },
    {
      "cell_type": "code",
      "metadata": {
        "colab": {
          "base_uri": "https://localhost:8080/"
        },
        "id": "4ce73beb-5d37-4588-99ae-e73846a9412c",
        "outputId": "eba99e88-b4d9-4f2c-8bb1-0a7a85d3b004"
      },
      "outputs": [
        {
          "output_type": "stream",
          "name": "stdout",
          "text": [
            "Collecting scikit-surprise==1.1.1\n",
            "  Downloading scikit-surprise-1.1.1.tar.gz (11.8 MB)\n",
            "\u001b[2K     \u001b[90m━━━━━━━━━━━━━━━━━━━━━━━━━━━━━━━━━━━━━━━━\u001b[0m \u001b[32m11.8/11.8 MB\u001b[0m \u001b[31m30.7 MB/s\u001b[0m eta \u001b[36m0:00:00\u001b[0m\n",
            "\u001b[?25h  Preparing metadata (setup.py) ... \u001b[?25l\u001b[?25hdone\n",
            "Requirement already satisfied: joblib>=0.11 in /usr/local/lib/python3.10/dist-packages (from scikit-surprise==1.1.1) (1.3.2)\n",
            "Requirement already satisfied: numpy>=1.11.2 in /usr/local/lib/python3.10/dist-packages (from scikit-surprise==1.1.1) (1.23.5)\n",
            "Requirement already satisfied: scipy>=1.0.0 in /usr/local/lib/python3.10/dist-packages (from scikit-surprise==1.1.1) (1.10.1)\n",
            "Requirement already satisfied: six>=1.10.0 in /usr/local/lib/python3.10/dist-packages (from scikit-surprise==1.1.1) (1.16.0)\n",
            "Building wheels for collected packages: scikit-surprise\n",
            "  Building wheel for scikit-surprise (setup.py) ... \u001b[?25l\u001b[?25hdone\n",
            "  Created wheel for scikit-surprise: filename=scikit_surprise-1.1.1-cp310-cp310-linux_x86_64.whl size=1758332 sha256=4d76de8ccc45fc6a91db13cc4426b9347a8abc3a6f84c8a31540461c568827f0\n",
            "  Stored in directory: /root/.cache/pip/wheels/83/11/fb/6f834df4a72a79fcd80a6ab5e3098cee14dc66bda025915ace\n",
            "Successfully built scikit-surprise\n",
            "Installing collected packages: scikit-surprise\n",
            "Successfully installed scikit-surprise-1.1.1\n"
          ]
        }
      ],
      "source": [
        "!pip install scikit-surprise==1.1.1"
      ],
      "execution_count": 5
    },
    {
      "cell_type": "markdown",
      "metadata": {
        "id": "e04ba84a-2833-403a-a8c5-68dd48b782ce"
      },
      "source": [
        "We import required classes and methods\n"
      ]
    },
    {
      "cell_type": "code",
      "metadata": {
        "id": "1d52e293-9625-4c2d-9a7b-6b30705c7a44"
      },
      "outputs": [],
      "source": [
        "from surprise import NMF\n",
        "from surprise import Dataset, Reader\n",
        "from surprise.model_selection import train_test_split\n",
        "from surprise import accuracy"
      ],
      "execution_count": 6
    },
    {
      "cell_type": "code",
      "metadata": {
        "id": "ceed99af-46fc-45fa-a74a-d66e975043e4"
      },
      "outputs": [],
      "source": [
        "rating_df.to_csv(\"course_ratings.csv\", index=False)\n",
        "# Read the course rating dataset with columns user item rating\n",
        "reader = Reader(\n",
        "        line_format='user item rating', sep=',', skip_lines=1, rating_scale=(2, 3))\n",
        "\n",
        "coruse_dataset = Dataset.load_from_file(\"course_ratings.csv\", reader=reader)"
      ],
      "execution_count": 7
    },
    {
      "cell_type": "markdown",
      "metadata": {
        "id": "ab4dd50c-256b-41ce-998e-22227b7b562c"
      },
      "source": [
        "Now  we split the data into a train-set and test-set:\n"
      ]
    },
    {
      "cell_type": "code",
      "metadata": {
        "id": "dce591b3-f925-4294-9d99-3259b5c782ba"
      },
      "outputs": [],
      "source": [
        "trainset, testset = train_test_split(coruse_dataset, test_size=.3)"
      ],
      "execution_count": 8
    },
    {
      "cell_type": "markdown",
      "metadata": {
        "id": "f9412840-61f7-4c16-9160-8b970fd44a16"
      },
      "source": [
        "Then check how many users and items we can use to fit the KNN model:\n"
      ]
    },
    {
      "cell_type": "code",
      "metadata": {
        "colab": {
          "base_uri": "https://localhost:8080/"
        },
        "id": "54c301a9-abdc-4d53-bc17-410ff5f04ee3",
        "outputId": "ad937be4-de13-4028-d618-6cbbec280b58"
      },
      "outputs": [
        {
          "output_type": "stream",
          "name": "stdout",
          "text": [
            "Total 31249 users and 122 items in the trainingset\n"
          ]
        }
      ],
      "source": [
        "print(f\"Total {trainset.n_users} users and {trainset.n_items} items in the trainingset\")"
      ],
      "execution_count": 9
    },
    {
      "cell_type": "markdown",
      "metadata": {
        "id": "e24c63fe-f643-4eff-9d39-8d8f8e24a1ce"
      },
      "source": [
        "### TASK: Perform NMF-based collaborative filtering on the course-interaction matrix\n"
      ]
    },
    {
      "cell_type": "markdown",
      "metadata": {
        "id": "4d91540b-b9f8-4e4f-8a79-8b12b4067e5a"
      },
      "source": [
        "_TODO: Fit a NMF model using the trainset and evaluate the results using the testset_ The code will be very similar to the KNN-based collaborative filtering, you just need to use the `NMF()` model.\n"
      ]
    },
    {
      "cell_type": "code",
      "metadata": {
        "colab": {
          "base_uri": "https://localhost:8080/"
        },
        "id": "9241c1ec-a3da-4518-b13f-9eab30aafb23",
        "outputId": "7ee13821-50e0-4603-cb9a-37b7e2ff251d"
      },
      "outputs": [
        {
          "output_type": "stream",
          "name": "stdout",
          "text": [
            "Processing epoch 0\n",
            "Processing epoch 1\n",
            "Processing epoch 2\n",
            "Processing epoch 3\n",
            "Processing epoch 4\n",
            "Processing epoch 5\n",
            "Processing epoch 6\n",
            "Processing epoch 7\n",
            "Processing epoch 8\n",
            "Processing epoch 9\n",
            "Processing epoch 10\n",
            "Processing epoch 11\n",
            "Processing epoch 12\n",
            "Processing epoch 13\n",
            "Processing epoch 14\n",
            "Processing epoch 15\n",
            "Processing epoch 16\n",
            "Processing epoch 17\n",
            "Processing epoch 18\n",
            "Processing epoch 19\n",
            "Processing epoch 20\n",
            "Processing epoch 21\n",
            "Processing epoch 22\n",
            "Processing epoch 23\n",
            "Processing epoch 24\n",
            "Processing epoch 25\n",
            "Processing epoch 26\n",
            "Processing epoch 27\n",
            "Processing epoch 28\n",
            "Processing epoch 29\n",
            "Processing epoch 30\n",
            "Processing epoch 31\n",
            "Processing epoch 32\n",
            "Processing epoch 33\n",
            "Processing epoch 34\n",
            "Processing epoch 35\n",
            "Processing epoch 36\n",
            "Processing epoch 37\n",
            "Processing epoch 38\n",
            "Processing epoch 39\n",
            "Processing epoch 40\n",
            "Processing epoch 41\n",
            "Processing epoch 42\n",
            "Processing epoch 43\n",
            "Processing epoch 44\n",
            "Processing epoch 45\n",
            "Processing epoch 46\n",
            "Processing epoch 47\n",
            "Processing epoch 48\n",
            "Processing epoch 49\n",
            "RMSE: 0.2102\n"
          ]
        },
        {
          "output_type": "execute_result",
          "data": {
            "text/plain": [
              "0.21024517156675518"
            ]
          },
          "metadata": {},
          "execution_count": 10
        }
      ],
      "source": [
        "## WRITE YOUR CODE HERE:\n",
        "\n",
        "\n",
        "# - Define a NMF model NMF(verbose=True, random_state=123)\n",
        "\n",
        "# - Train the NMF on the trainset, and predict ratings for the testset\n",
        "\n",
        "# - Then compute RMSE\n",
        "\n",
        "# more NMF model hyperparamets can be found here:\n",
        "\n",
        "# https://surprise.readthedocs.io/en/stable/matrix_factorization.html\n",
        "\n",
        "# You may try different hyperparamet combinations to see which one has the best performance\n",
        "algo = NMF(verbose=True, random_state=123)\n",
        "\n",
        "# Train the algorithm on the trainset, and predict ratings for the testset\n",
        "algo.fit(trainset)\n",
        "predictions = algo.test(testset)\n",
        "\n",
        "# Then compute RMSE\n",
        "accuracy.rmse(predictions)\n",
        "\n"
      ],
      "execution_count": 10
    },
    {
      "cell_type": "markdown",
      "metadata": {
        "id": "cbd9af7d-06d2-4774-b9ea-4c9bdf4a0ea1"
      },
      "source": [
        "<details>\n",
        "    <summary>Click here for Hints</summary>\n",
        "\n",
        "* Create a model by calling `NMF()` class and set parameters to `init_low=0.5, init_high = 5.0, n_factors=32`.\n",
        "* Fit it  with `trainset` by using `model.fit(trainset)`.  \n",
        "* Record predictions to the `testset`  by using `model.test(testset).\n",
        "* Compute the accuracy by using `accuracy.rmse(predictions)`\n"
      ]
    },
    {
      "cell_type": "markdown",
      "metadata": {
        "id": "cedb79a1-19d0-45b7-af1b-3a216a9bcc56"
      },
      "source": [
        "To learn more detailed usages about _Surprise_ library, visit its website from [here](https://surprise.readthedocs.io/en/stable/getting_started.html?utm_medium=Exinfluencer&utm_source=Exinfluencer&utm_content=000026UJ&utm_term=10006555&utm_id=NA-SkillsNetwork-Channel-SkillsNetworkCoursesIBMML321ENSkillsNetwork817-2022-01-01)\n"
      ]
    },
    {
      "cell_type": "markdown",
      "metadata": {
        "id": "700d025e-099f-49d3-b190-a8bdef55fe42"
      },
      "source": [
        "## Implementation Option 2: Use `numpy`, `pandas`, and `sklearn`.\n"
      ]
    },
    {
      "cell_type": "markdown",
      "metadata": {
        "id": "dfafae46-7392-4a0a-869c-2a0e01301e6e"
      },
      "source": [
        "If you do not prefer the one-stop Suprise solution, you may implement the KNN model using `numpy`, `pandas`, and possibly `sklearn`:\n"
      ]
    },
    {
      "cell_type": "code",
      "metadata": {
        "id": "e19f826b-2a0b-4abd-b832-a71711762ccb"
      },
      "outputs": [],
      "source": [
        "## WRITE YOUR CODE HERE:\n",
        "\n",
        "## One solution could be:\n",
        "\n",
        "## - Use the NMF() class provided by sklearn to decompose the original user-item interaction matrix\n",
        "\n",
        "## - For each rating in the test dataset, estimate its rating using the dot product of matrix U and matrix I, following the previous equation\n",
        "\n",
        "## - Calculate the RMSE for the entire test dataset\n"
      ],
      "execution_count": null
    },
    {
      "cell_type": "markdown",
      "metadata": {
        "id": "61ee11af-9058-4e44-93a0-dff9d2d7ab97"
      },
      "source": [
        "## Summary\n"
      ]
    },
    {
      "cell_type": "markdown",
      "metadata": {
        "id": "7944aa48-8f4c-4317-a869-0adfde8c915f"
      },
      "source": [
        "In this lab, you have learned and practiced NMF-based collaborative filtering. The basic idea is to decompose the original user-item interaction matrix into two smaller and dense user and item matrices. Then, we have built the two matrices, we can easily estimate the unknown ratings via the dot product of specific row in user matrix and specific column in item matrix.\n"
      ]
    },
    {
      "cell_type": "markdown",
      "metadata": {
        "id": "c2abafdf-cf8d-4cfa-88e6-0a8e8d4f0bf8"
      },
      "source": [
        "## Authors\n"
      ]
    },
    {
      "cell_type": "markdown",
      "metadata": {
        "id": "93e18b72-8312-4c27-90b4-460b40608a6c"
      },
      "source": [
        "[Yan Luo](https://www.linkedin.com/in/yan-luo-96288783/?utm_medium=Exinfluencer&utm_source=Exinfluencer&utm_content=000026UJ&utm_term=10006555&utm_id=NA-SkillsNetwork-Channel-SkillsNetworkCoursesIBMML321ENSkillsNetwork817-2022-01-01)\n"
      ]
    },
    {
      "cell_type": "markdown",
      "metadata": {
        "id": "6afe6519-c0a5-4ec4-b4d5-d3b10e63b960"
      },
      "source": [
        "### Other Contributors\n"
      ]
    },
    {
      "cell_type": "markdown",
      "metadata": {
        "id": "17519e18-7941-41bd-8d4c-b3db689b51ea"
      },
      "source": [
        "## Change Log\n"
      ]
    },
    {
      "cell_type": "markdown",
      "metadata": {
        "id": "aafc6a7f-28b1-428b-886b-35adb2eb77e5"
      },
      "source": [
        "|Date (YYYY-MM-DD)|Version|Changed By|Change Description|\n",
        "|-|-|-|-|\n",
        "|2021-10-25|1.0|Yan|Created the initial version|\n"
      ]
    },
    {
      "cell_type": "markdown",
      "metadata": {
        "id": "39252265-1fe9-4444-a05f-42dc8be17db6"
      },
      "source": [
        "Copyright © 2022 IBM Corporation. All rights reserved.\n"
      ]
    }
  ],
  "metadata": {
    "kernelspec": {
      "display_name": "Python",
      "language": "python",
      "name": "conda-env-python-py"
    },
    "language_info": {
      "name": ""
    },
    "colab": {
      "provenance": [],
      "gpuType": "T4"
    },
    "accelerator": "GPU"
  },
  "nbformat": 4,
  "nbformat_minor": 0
}
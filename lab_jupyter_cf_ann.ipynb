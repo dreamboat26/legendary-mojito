{
  "cells": [
    {
      "cell_type": "markdown",
      "metadata": {
        "id": "51d3e6d1-4ce0-45fe-9296-60b9ec8c4841"
      },
      "source": [
        "<p style=\"text-align:center\">\n",
        "    <a href=\"https://skills.network/?utm_medium=Exinfluencer&utm_source=Exinfluencer&utm_content=000026UJ&utm_term=10006555&utm_id=NA-SkillsNetwork-Channel-SkillsNetworkCoursesIBMML321ENSkillsNetwork817-2022-01-01\" target=\"_blank\">\n",
        "    <img src=\"https://cf-courses-data.s3.us.cloud-object-storage.appdomain.cloud/assets/logos/SN_web_lightmode.png\" width=\"200\" alt=\"Skills Network Logo\"  />\n",
        "    </a>\n",
        "</p>\n"
      ]
    },
    {
      "cell_type": "markdown",
      "metadata": {
        "id": "899990e4-6229-4ae5-aec2-9ab97d21a5a1"
      },
      "source": [
        "# **Course Rating Prediction using Neural Networks**\n"
      ]
    },
    {
      "cell_type": "markdown",
      "metadata": {
        "id": "3a590f18-88b6-4678-a3c6-c1073879795a"
      },
      "source": [
        "Estimated time needed: **60** minutes\n"
      ]
    },
    {
      "cell_type": "markdown",
      "metadata": {
        "id": "bc07888c-a937-4390-891c-8f159a5945d1"
      },
      "source": [
        "In the previous labs, we have crafted several types of user and item feature vectors.  For example, given a user `i`, we may build its profile feature vector and course rating feature vector, and given an item `j`, we may create its genre vector and user enrollment vectors.\n"
      ]
    },
    {
      "cell_type": "markdown",
      "metadata": {
        "id": "30b75483-34e1-460e-ae57-b563b5d8f5f2"
      },
      "source": [
        "\n",
        "With these explicit features vectors, we can perform machine learning tasks such as calculating the similarities among users or items, finding nearest neighbors, and using dot-product to estimate a rating value.\n",
        "\n",
        "The main advantage of using these explicit features is they are highly interpretable and yield very good performance as well. The main disadvantage is we need to spend quite some effort to build and store them.\n"
      ]
    },
    {
      "cell_type": "markdown",
      "metadata": {
        "id": "241cdfc2-4ede-4e4f-a763-d7a226e12b47"
      },
      "source": [
        "![](https://cf-courses-data.s3.us.cloud-object-storage.appdomain.cloud/IBM-ML321EN-SkillsNetwork/labs/module_4/images/explicit_user_item_features.png)\n"
      ]
    },
    {
      "cell_type": "markdown",
      "metadata": {
        "id": "634fb4c3-cd1a-4c80-afc5-b01ab7c88d5d"
      },
      "source": [
        "Is it possible to predict a rating without building explicit feature vectors beforehand?  \n",
        "\n",
        "Yes, as you may recall, the Non-negative Matrix Factorization decomposes the user-item interaction matrix into user matrix and item matrix, which contain the latent features of users and items and you can simply dot-product them to get an estimated rating.\n"
      ]
    },
    {
      "cell_type": "markdown",
      "metadata": {
        "id": "91a938f1-3720-4b5e-abcf-1e7bb7f5f113"
      },
      "source": [
        "![](https://cf-courses-data.s3.us.cloud-object-storage.appdomain.cloud/IBM-ML321EN-SkillsNetwork/labs/module_4/images/nmf.png)\n"
      ]
    },
    {
      "cell_type": "markdown",
      "metadata": {
        "id": "623f49f0-2cf7-4094-8884-783f0980d31e"
      },
      "source": [
        "In addition to NMF, neural networks can also be used to extract the latent user and item features?  In fact,  neural networks are very good at learning patterns from data and are widely used to extract latent features.  When training neural networks, it gradually captures and stores the features within its hidden layers as weight matrices and can be extracted to represent the original data.\n"
      ]
    },
    {
      "cell_type": "markdown",
      "metadata": {
        "id": "259d6fe8-09fe-4311-9fd4-55606155a44f"
      },
      "source": [
        "In this lab, you will be training neural networks to predict course ratings while simultaneously extracting users' and items' latent features.\n"
      ]
    },
    {
      "cell_type": "markdown",
      "metadata": {
        "id": "35bb7589-d223-4f0c-8aaa-9340c2a0d61a"
      },
      "source": [
        "## Objectives\n"
      ]
    },
    {
      "cell_type": "markdown",
      "metadata": {
        "id": "f4f1e1d9-0569-43f2-a8db-c7daae9da4cf"
      },
      "source": [
        "After completing this lab you will be able to:\n"
      ]
    },
    {
      "cell_type": "markdown",
      "metadata": {
        "id": "b309b802-74f3-40e8-a7aa-dafcdc323d05"
      },
      "source": [
        "* Use `tensorflow` to train neural networks to extract the user and item latent features from the hidden's layers  \n",
        "* Predict course ratings with trained neural networks\n"
      ]
    },
    {
      "cell_type": "markdown",
      "metadata": {
        "id": "7a474d4d-efbd-45f8-b165-b47e93887504"
      },
      "source": [
        "----\n"
      ]
    },
    {
      "cell_type": "markdown",
      "metadata": {
        "id": "e5132dfd-3f42-4867-ac16-771736dd9d6b"
      },
      "source": [
        "## Prepare and setup lab environment\n"
      ]
    },
    {
      "cell_type": "markdown",
      "metadata": {
        "id": "d7f4714c-c0ad-4816-a309-6f0fd42d08c4"
      },
      "source": [
        "Install tensorflow 2.7 if not installed before in your Python environment\n"
      ]
    },
    {
      "cell_type": "code",
      "metadata": {
        "colab": {
          "base_uri": "https://localhost:8080/"
        },
        "id": "d9beae9b-d03c-4051-acb3-d651e7c9a30f",
        "outputId": "6f92e94d-f3a0-415b-e87a-bfa22212b77b"
      },
      "outputs": [
        {
          "output_type": "stream",
          "name": "stdout",
          "text": [
            "\u001b[31mERROR: Could not find a version that satisfies the requirement tensorflow==2.7.0 (from versions: 2.8.0rc0, 2.8.0rc1, 2.8.0, 2.8.1, 2.8.2, 2.8.3, 2.8.4, 2.9.0rc0, 2.9.0rc1, 2.9.0rc2, 2.9.0, 2.9.1, 2.9.2, 2.9.3, 2.10.0rc0, 2.10.0rc1, 2.10.0rc2, 2.10.0rc3, 2.10.0, 2.10.1, 2.11.0rc0, 2.11.0rc1, 2.11.0rc2, 2.11.0, 2.11.1, 2.12.0rc0, 2.12.0rc1, 2.12.0, 2.12.1, 2.13.0rc0, 2.13.0rc1, 2.13.0rc2, 2.13.0, 2.14.0rc0, 2.14.0rc1)\u001b[0m\u001b[31m\n",
            "\u001b[0m\u001b[31mERROR: No matching distribution found for tensorflow==2.7.0\u001b[0m\u001b[31m\n",
            "\u001b[0m"
          ]
        }
      ],
      "source": [
        "!pip install tensorflow==2.7.0"
      ],
      "execution_count": 1
    },
    {
      "cell_type": "markdown",
      "metadata": {
        "id": "bffd4abc-08e0-4845-bb45-d601408c3c14"
      },
      "source": [
        "and import required libraries:\n"
      ]
    },
    {
      "cell_type": "code",
      "metadata": {
        "id": "d2cca8ba-dab5-4617-95c9-4ff14184b4bd"
      },
      "outputs": [],
      "source": [
        "import pandas as pd\n",
        "import tensorflow as tf\n",
        "import matplotlib.pyplot as plt\n",
        "\n",
        "from tensorflow import keras\n",
        "from tensorflow.keras import layers"
      ],
      "execution_count": 2
    },
    {
      "cell_type": "code",
      "metadata": {
        "id": "46b1eca5-4dcc-4f69-b865-f3aa2dde0b52"
      },
      "outputs": [],
      "source": [
        "# also set a random state\n",
        "rs = 123"
      ],
      "execution_count": 3
    },
    {
      "cell_type": "markdown",
      "metadata": {
        "id": "3df30857-26fb-4dd3-8edd-1372c205455e"
      },
      "source": [
        "### Load and processing rating dataset\n"
      ]
    },
    {
      "cell_type": "code",
      "metadata": {
        "colab": {
          "base_uri": "https://localhost:8080/",
          "height": 206
        },
        "id": "f0cbf852-4a5e-4205-aa6d-b3bae89a0c2e",
        "outputId": "997f11fc-e221-4031-b6d4-89cfbf71adfe"
      },
      "outputs": [
        {
          "output_type": "execute_result",
          "data": {
            "text/plain": [
              "      user        item  rating\n",
              "0  1889878    CC0101EN     3.0\n",
              "1  1342067    CL0101EN     3.0\n",
              "2  1990814  ML0120ENv3     3.0\n",
              "3   380098    BD0211EN     3.0\n",
              "4   779563    DS0101EN     3.0"
            ],
            "text/html": [
              "\n",
              "  <div id=\"df-4c29cb77-b1f5-420c-98ce-d6677e664396\" class=\"colab-df-container\">\n",
              "    <div>\n",
              "<style scoped>\n",
              "    .dataframe tbody tr th:only-of-type {\n",
              "        vertical-align: middle;\n",
              "    }\n",
              "\n",
              "    .dataframe tbody tr th {\n",
              "        vertical-align: top;\n",
              "    }\n",
              "\n",
              "    .dataframe thead th {\n",
              "        text-align: right;\n",
              "    }\n",
              "</style>\n",
              "<table border=\"1\" class=\"dataframe\">\n",
              "  <thead>\n",
              "    <tr style=\"text-align: right;\">\n",
              "      <th></th>\n",
              "      <th>user</th>\n",
              "      <th>item</th>\n",
              "      <th>rating</th>\n",
              "    </tr>\n",
              "  </thead>\n",
              "  <tbody>\n",
              "    <tr>\n",
              "      <th>0</th>\n",
              "      <td>1889878</td>\n",
              "      <td>CC0101EN</td>\n",
              "      <td>3.0</td>\n",
              "    </tr>\n",
              "    <tr>\n",
              "      <th>1</th>\n",
              "      <td>1342067</td>\n",
              "      <td>CL0101EN</td>\n",
              "      <td>3.0</td>\n",
              "    </tr>\n",
              "    <tr>\n",
              "      <th>2</th>\n",
              "      <td>1990814</td>\n",
              "      <td>ML0120ENv3</td>\n",
              "      <td>3.0</td>\n",
              "    </tr>\n",
              "    <tr>\n",
              "      <th>3</th>\n",
              "      <td>380098</td>\n",
              "      <td>BD0211EN</td>\n",
              "      <td>3.0</td>\n",
              "    </tr>\n",
              "    <tr>\n",
              "      <th>4</th>\n",
              "      <td>779563</td>\n",
              "      <td>DS0101EN</td>\n",
              "      <td>3.0</td>\n",
              "    </tr>\n",
              "  </tbody>\n",
              "</table>\n",
              "</div>\n",
              "    <div class=\"colab-df-buttons\">\n",
              "\n",
              "  <div class=\"colab-df-container\">\n",
              "    <button class=\"colab-df-convert\" onclick=\"convertToInteractive('df-4c29cb77-b1f5-420c-98ce-d6677e664396')\"\n",
              "            title=\"Convert this dataframe to an interactive table.\"\n",
              "            style=\"display:none;\">\n",
              "\n",
              "  <svg xmlns=\"http://www.w3.org/2000/svg\" height=\"24px\" viewBox=\"0 -960 960 960\">\n",
              "    <path d=\"M120-120v-720h720v720H120Zm60-500h600v-160H180v160Zm220 220h160v-160H400v160Zm0 220h160v-160H400v160ZM180-400h160v-160H180v160Zm440 0h160v-160H620v160ZM180-180h160v-160H180v160Zm440 0h160v-160H620v160Z\"/>\n",
              "  </svg>\n",
              "    </button>\n",
              "\n",
              "  <style>\n",
              "    .colab-df-container {\n",
              "      display:flex;\n",
              "      gap: 12px;\n",
              "    }\n",
              "\n",
              "    .colab-df-convert {\n",
              "      background-color: #E8F0FE;\n",
              "      border: none;\n",
              "      border-radius: 50%;\n",
              "      cursor: pointer;\n",
              "      display: none;\n",
              "      fill: #1967D2;\n",
              "      height: 32px;\n",
              "      padding: 0 0 0 0;\n",
              "      width: 32px;\n",
              "    }\n",
              "\n",
              "    .colab-df-convert:hover {\n",
              "      background-color: #E2EBFA;\n",
              "      box-shadow: 0px 1px 2px rgba(60, 64, 67, 0.3), 0px 1px 3px 1px rgba(60, 64, 67, 0.15);\n",
              "      fill: #174EA6;\n",
              "    }\n",
              "\n",
              "    .colab-df-buttons div {\n",
              "      margin-bottom: 4px;\n",
              "    }\n",
              "\n",
              "    [theme=dark] .colab-df-convert {\n",
              "      background-color: #3B4455;\n",
              "      fill: #D2E3FC;\n",
              "    }\n",
              "\n",
              "    [theme=dark] .colab-df-convert:hover {\n",
              "      background-color: #434B5C;\n",
              "      box-shadow: 0px 1px 3px 1px rgba(0, 0, 0, 0.15);\n",
              "      filter: drop-shadow(0px 1px 2px rgba(0, 0, 0, 0.3));\n",
              "      fill: #FFFFFF;\n",
              "    }\n",
              "  </style>\n",
              "\n",
              "    <script>\n",
              "      const buttonEl =\n",
              "        document.querySelector('#df-4c29cb77-b1f5-420c-98ce-d6677e664396 button.colab-df-convert');\n",
              "      buttonEl.style.display =\n",
              "        google.colab.kernel.accessAllowed ? 'block' : 'none';\n",
              "\n",
              "      async function convertToInteractive(key) {\n",
              "        const element = document.querySelector('#df-4c29cb77-b1f5-420c-98ce-d6677e664396');\n",
              "        const dataTable =\n",
              "          await google.colab.kernel.invokeFunction('convertToInteractive',\n",
              "                                                    [key], {});\n",
              "        if (!dataTable) return;\n",
              "\n",
              "        const docLinkHtml = 'Like what you see? Visit the ' +\n",
              "          '<a target=\"_blank\" href=https://colab.research.google.com/notebooks/data_table.ipynb>data table notebook</a>'\n",
              "          + ' to learn more about interactive tables.';\n",
              "        element.innerHTML = '';\n",
              "        dataTable['output_type'] = 'display_data';\n",
              "        await google.colab.output.renderOutput(dataTable, element);\n",
              "        const docLink = document.createElement('div');\n",
              "        docLink.innerHTML = docLinkHtml;\n",
              "        element.appendChild(docLink);\n",
              "      }\n",
              "    </script>\n",
              "  </div>\n",
              "\n",
              "\n",
              "<div id=\"df-4dae67f4-b67d-48f6-b66a-afe1e70a4230\">\n",
              "  <button class=\"colab-df-quickchart\" onclick=\"quickchart('df-4dae67f4-b67d-48f6-b66a-afe1e70a4230')\"\n",
              "            title=\"Suggest charts.\"\n",
              "            style=\"display:none;\">\n",
              "\n",
              "<svg xmlns=\"http://www.w3.org/2000/svg\" height=\"24px\"viewBox=\"0 0 24 24\"\n",
              "     width=\"24px\">\n",
              "    <g>\n",
              "        <path d=\"M19 3H5c-1.1 0-2 .9-2 2v14c0 1.1.9 2 2 2h14c1.1 0 2-.9 2-2V5c0-1.1-.9-2-2-2zM9 17H7v-7h2v7zm4 0h-2V7h2v10zm4 0h-2v-4h2v4z\"/>\n",
              "    </g>\n",
              "</svg>\n",
              "  </button>\n",
              "\n",
              "<style>\n",
              "  .colab-df-quickchart {\n",
              "      --bg-color: #E8F0FE;\n",
              "      --fill-color: #1967D2;\n",
              "      --hover-bg-color: #E2EBFA;\n",
              "      --hover-fill-color: #174EA6;\n",
              "      --disabled-fill-color: #AAA;\n",
              "      --disabled-bg-color: #DDD;\n",
              "  }\n",
              "\n",
              "  [theme=dark] .colab-df-quickchart {\n",
              "      --bg-color: #3B4455;\n",
              "      --fill-color: #D2E3FC;\n",
              "      --hover-bg-color: #434B5C;\n",
              "      --hover-fill-color: #FFFFFF;\n",
              "      --disabled-bg-color: #3B4455;\n",
              "      --disabled-fill-color: #666;\n",
              "  }\n",
              "\n",
              "  .colab-df-quickchart {\n",
              "    background-color: var(--bg-color);\n",
              "    border: none;\n",
              "    border-radius: 50%;\n",
              "    cursor: pointer;\n",
              "    display: none;\n",
              "    fill: var(--fill-color);\n",
              "    height: 32px;\n",
              "    padding: 0;\n",
              "    width: 32px;\n",
              "  }\n",
              "\n",
              "  .colab-df-quickchart:hover {\n",
              "    background-color: var(--hover-bg-color);\n",
              "    box-shadow: 0 1px 2px rgba(60, 64, 67, 0.3), 0 1px 3px 1px rgba(60, 64, 67, 0.15);\n",
              "    fill: var(--button-hover-fill-color);\n",
              "  }\n",
              "\n",
              "  .colab-df-quickchart-complete:disabled,\n",
              "  .colab-df-quickchart-complete:disabled:hover {\n",
              "    background-color: var(--disabled-bg-color);\n",
              "    fill: var(--disabled-fill-color);\n",
              "    box-shadow: none;\n",
              "  }\n",
              "\n",
              "  .colab-df-spinner {\n",
              "    border: 2px solid var(--fill-color);\n",
              "    border-color: transparent;\n",
              "    border-bottom-color: var(--fill-color);\n",
              "    animation:\n",
              "      spin 1s steps(1) infinite;\n",
              "  }\n",
              "\n",
              "  @keyframes spin {\n",
              "    0% {\n",
              "      border-color: transparent;\n",
              "      border-bottom-color: var(--fill-color);\n",
              "      border-left-color: var(--fill-color);\n",
              "    }\n",
              "    20% {\n",
              "      border-color: transparent;\n",
              "      border-left-color: var(--fill-color);\n",
              "      border-top-color: var(--fill-color);\n",
              "    }\n",
              "    30% {\n",
              "      border-color: transparent;\n",
              "      border-left-color: var(--fill-color);\n",
              "      border-top-color: var(--fill-color);\n",
              "      border-right-color: var(--fill-color);\n",
              "    }\n",
              "    40% {\n",
              "      border-color: transparent;\n",
              "      border-right-color: var(--fill-color);\n",
              "      border-top-color: var(--fill-color);\n",
              "    }\n",
              "    60% {\n",
              "      border-color: transparent;\n",
              "      border-right-color: var(--fill-color);\n",
              "    }\n",
              "    80% {\n",
              "      border-color: transparent;\n",
              "      border-right-color: var(--fill-color);\n",
              "      border-bottom-color: var(--fill-color);\n",
              "    }\n",
              "    90% {\n",
              "      border-color: transparent;\n",
              "      border-bottom-color: var(--fill-color);\n",
              "    }\n",
              "  }\n",
              "</style>\n",
              "\n",
              "  <script>\n",
              "    async function quickchart(key) {\n",
              "      const quickchartButtonEl =\n",
              "        document.querySelector('#' + key + ' button');\n",
              "      quickchartButtonEl.disabled = true;  // To prevent multiple clicks.\n",
              "      quickchartButtonEl.classList.add('colab-df-spinner');\n",
              "      try {\n",
              "        const charts = await google.colab.kernel.invokeFunction(\n",
              "            'suggestCharts', [key], {});\n",
              "      } catch (error) {\n",
              "        console.error('Error during call to suggestCharts:', error);\n",
              "      }\n",
              "      quickchartButtonEl.classList.remove('colab-df-spinner');\n",
              "      quickchartButtonEl.classList.add('colab-df-quickchart-complete');\n",
              "    }\n",
              "    (() => {\n",
              "      let quickchartButtonEl =\n",
              "        document.querySelector('#df-4dae67f4-b67d-48f6-b66a-afe1e70a4230 button');\n",
              "      quickchartButtonEl.style.display =\n",
              "        google.colab.kernel.accessAllowed ? 'block' : 'none';\n",
              "    })();\n",
              "  </script>\n",
              "</div>\n",
              "    </div>\n",
              "  </div>\n"
            ]
          },
          "metadata": {},
          "execution_count": 4
        }
      ],
      "source": [
        "rating_url = \"https://cf-courses-data.s3.us.cloud-object-storage.appdomain.cloud/IBM-ML321EN-SkillsNetwork/labs/datasets/ratings.csv\"\n",
        "rating_df = pd.read_csv(rating_url)\n",
        "rating_df.head()"
      ],
      "execution_count": 4
    },
    {
      "cell_type": "markdown",
      "metadata": {
        "id": "a14e1a19-3b7d-41dd-9b68-3b9041c33b2d"
      },
      "source": [
        "This is the same rating dataset we have been using in previous lab, which contains the three main columns: `user`, `item`, and `rating`.\n"
      ]
    },
    {
      "cell_type": "markdown",
      "metadata": {
        "id": "924fbce1-cb1e-4fb4-a991-f77348d88577"
      },
      "source": [
        "Next, let's figure out how many unique users and items, their total numbers will determine the sizes of one-hot encoding vectors.\n"
      ]
    },
    {
      "cell_type": "code",
      "metadata": {
        "colab": {
          "base_uri": "https://localhost:8080/"
        },
        "id": "01912ceb-ab1d-4600-a79f-60c21a44f1e5",
        "outputId": "3a10f523-94d4-40d5-9e60-f08a45d0d7bd"
      },
      "outputs": [
        {
          "output_type": "stream",
          "name": "stdout",
          "text": [
            "There are total `33901` of users and `126` items\n"
          ]
        }
      ],
      "source": [
        "num_users = len(rating_df['user'].unique())\n",
        "num_items = len(rating_df['item'].unique())\n",
        "print(f\"There are total `{num_users}` of users and `{num_items}` items\")"
      ],
      "execution_count": 5
    },
    {
      "cell_type": "markdown",
      "metadata": {
        "id": "6bcd9652-e882-401f-9e23-56c6301b3588"
      },
      "source": [
        "It means our each user can be represented as a `33901 x 1` one-hot vector and each item can be represented as `126 x 1` one-hot vector.\n"
      ]
    },
    {
      "cell_type": "markdown",
      "metadata": {
        "id": "f3db37e9-14f7-4426-a72a-e8091ad0f11c"
      },
      "source": [
        "The goal is to create a neural network structure that can take the user and item one-hot vectors as inputs and outputs a rating estimation or the probability of interaction (such as the probability of completing a course).\n",
        "\n",
        "While training and updating the weights in the neural network, its hidden layers should be able to capture the pattern or features for each user and item. Based on this idea, we can design a simple neural network architecture like the following:\n"
      ]
    },
    {
      "cell_type": "markdown",
      "metadata": {
        "id": "06d380d7-9dc1-476e-91d9-c37a2056c854"
      },
      "source": [
        "![](https://cf-courses-data.s3.us.cloud-object-storage.appdomain.cloud/IBM-ML321EN-SkillsNetwork/labs/module_4/images/embedding_feature_vector.png)\n"
      ]
    },
    {
      "cell_type": "markdown",
      "metadata": {
        "id": "cb9f4159-a687-4672-b532-91a771752fb7"
      },
      "source": [
        "The network inputs are two one-hot encoding vectors, the blue one is for the user and the green one is for the item. Then on top of them, we added two embedding layers. Here embedding means embedding the one-hot encoding vector into a latent feature space. The embedding layer is a fully-connected layer that outputs the embedding feature vectors. For example, the user embedding layer takes `33901 x 1` one-hot vector as input and outputs a `16 x 1` embedding vector.\n"
      ]
    },
    {
      "cell_type": "markdown",
      "metadata": {
        "id": "54d4b720-935b-4950-8c59-49143744cadf"
      },
      "source": [
        "The embedding layer outputs two embedding vectors, which are similar to Non-negative matrix factorization. Then we could simply dot the product the user and item embedding vector to output a rating estimation.\n"
      ]
    },
    {
      "cell_type": "markdown",
      "metadata": {
        "id": "483a3a53-3269-4e7f-8b77-de8f63ed1265"
      },
      "source": [
        "#### Implementing the recommender neural network using tensorflow\n"
      ]
    },
    {
      "cell_type": "markdown",
      "metadata": {
        "id": "302aa955-b032-4c3f-9248-d90776ba48a5"
      },
      "source": [
        "This network architecture could be defined and implemented as a sub-class inheriting the `tensorflow.keras.Model` super class, let's call it `RecommenderNet()`.\n"
      ]
    },
    {
      "cell_type": "code",
      "metadata": {
        "id": "faf22412-aa0b-4903-baf0-656e9d6cd4a9"
      },
      "outputs": [],
      "source": [
        "class RecommenderNet(keras.Model):\n",
        "\n",
        "    def __init__(self, num_users, num_items, embedding_size=16, **kwargs):\n",
        "        \"\"\"\n",
        "           Constructor\n",
        "           :param int num_users: number of users\n",
        "           :param int num_items: number of items\n",
        "           :param int embedding_size: the size of embedding vector\n",
        "        \"\"\"\n",
        "        super(RecommenderNet, self).__init__(**kwargs)\n",
        "        self.num_users = num_users\n",
        "        self.num_items = num_items\n",
        "        self.embedding_size = embedding_size\n",
        "\n",
        "        # Define a user_embedding vector\n",
        "        # Input dimension is the num_users\n",
        "        # Output dimension is the embedding size\n",
        "        self.user_embedding_layer = layers.Embedding(\n",
        "            input_dim=num_users,\n",
        "            output_dim=embedding_size,\n",
        "            name='user_embedding_layer',\n",
        "            embeddings_initializer=\"he_normal\",\n",
        "            embeddings_regularizer=keras.regularizers.l2(1e-6),\n",
        "        )\n",
        "        # Define a user bias layer\n",
        "        self.user_bias = layers.Embedding(\n",
        "            input_dim=num_users,\n",
        "            output_dim=1,\n",
        "            name=\"user_bias\")\n",
        "\n",
        "        # Define an item_embedding vector\n",
        "        # Input dimension is the num_items\n",
        "        # Output dimension is the embedding size\n",
        "        self.item_embedding_layer = layers.Embedding(\n",
        "            input_dim=num_items,\n",
        "            output_dim=embedding_size,\n",
        "            name='item_embedding_layer',\n",
        "            embeddings_initializer=\"he_normal\",\n",
        "            embeddings_regularizer=keras.regularizers.l2(1e-6),\n",
        "        )\n",
        "        # Define an item bias layer\n",
        "        self.item_bias = layers.Embedding(\n",
        "            input_dim=num_items,\n",
        "            output_dim=1,\n",
        "            name=\"item_bias\")\n",
        "\n",
        "    def call(self, inputs):\n",
        "        \"\"\"\n",
        "           method to be called during model fitting\n",
        "\n",
        "           :param inputs: user and item one-hot vectors\n",
        "        \"\"\"\n",
        "        # Compute the user embedding vector\n",
        "        user_vector = self.user_embedding_layer(inputs[:, 0])\n",
        "        user_bias = self.user_bias(inputs[:, 0])\n",
        "        item_vector = self.item_embedding_layer(inputs[:, 1])\n",
        "        item_bias = self.item_bias(inputs[:, 1])\n",
        "        dot_user_item = tf.tensordot(user_vector, item_vector, 2)\n",
        "        # Add all the components (including bias)\n",
        "        x = dot_user_item + user_bias + item_bias\n",
        "        # Sigmoid output layer to output the probability\n",
        "        return tf.nn.relu(x)"
      ],
      "execution_count": 6
    },
    {
      "cell_type": "markdown",
      "metadata": {
        "id": "96e243d9-323f-486f-a0b1-ed3c365d50ab"
      },
      "source": [
        "### TASK: Train and evaluate the RecommenderNet()\n"
      ]
    },
    {
      "cell_type": "markdown",
      "metadata": {
        "id": "52a8447a-3ee0-4b9a-bb00-c8bc26590c22"
      },
      "source": [
        "Now it's time to train and evaluate the defined `RecommenderNet()`. First, we need to process the original rating dataset a little bit by converting the actual user ids and item ids into integer indices for `tensorflow` to creating the one-hot encoding vectors.\n"
      ]
    },
    {
      "cell_type": "code",
      "metadata": {
        "id": "e367b70c-7373-4fc3-88c0-dee452c0f6bf"
      },
      "outputs": [],
      "source": [
        "def process_dataset(raw_data):\n",
        "\n",
        "    encoded_data = raw_data.copy()\n",
        "\n",
        "    # Mapping user ids to indices\n",
        "    user_list = encoded_data[\"user\"].unique().tolist()\n",
        "    user_id2idx_dict = {x: i for i, x in enumerate(user_list)}\n",
        "    user_idx2id_dict = {i: x for i, x in enumerate(user_list)}\n",
        "\n",
        "    # Mapping course ids to indices\n",
        "    course_list = encoded_data[\"item\"].unique().tolist()\n",
        "    course_id2idx_dict = {x: i for i, x in enumerate(course_list)}\n",
        "    course_idx2id_dict = {i: x for i, x in enumerate(course_list)}\n",
        "\n",
        "    # Convert original user ids to idx\n",
        "    encoded_data[\"user\"] = encoded_data[\"user\"].map(user_id2idx_dict)\n",
        "    # Convert original course ids to idx\n",
        "    encoded_data[\"item\"] = encoded_data[\"item\"].map(course_id2idx_dict)\n",
        "    # Convert rating to int\n",
        "    encoded_data[\"rating\"] = encoded_data[\"rating\"].values.astype(\"int\")\n",
        "\n",
        "    return encoded_data, user_idx2id_dict, course_idx2id_dict"
      ],
      "execution_count": 7
    },
    {
      "cell_type": "code",
      "metadata": {
        "id": "fd94664f-010a-4af4-86b5-68aaa35351b7"
      },
      "outputs": [],
      "source": [
        "encoded_data, user_idx2id_dict, course_idx2id_dict = process_dataset(rating_df)"
      ],
      "execution_count": 8
    },
    {
      "cell_type": "code",
      "metadata": {
        "colab": {
          "base_uri": "https://localhost:8080/",
          "height": 206
        },
        "id": "30aa1b91-bf81-4b84-a684-1f9dc29ac8d4",
        "outputId": "007d1a84-0662-44c6-a3a1-ece78e2acff2"
      },
      "outputs": [
        {
          "output_type": "execute_result",
          "data": {
            "text/plain": [
              "   user  item  rating\n",
              "0     0     0       3\n",
              "1     1     1       3\n",
              "2     2     2       3\n",
              "3     3     3       3\n",
              "4     4     4       3"
            ],
            "text/html": [
              "\n",
              "  <div id=\"df-88416637-6860-490b-b5d1-e9eb7592028a\" class=\"colab-df-container\">\n",
              "    <div>\n",
              "<style scoped>\n",
              "    .dataframe tbody tr th:only-of-type {\n",
              "        vertical-align: middle;\n",
              "    }\n",
              "\n",
              "    .dataframe tbody tr th {\n",
              "        vertical-align: top;\n",
              "    }\n",
              "\n",
              "    .dataframe thead th {\n",
              "        text-align: right;\n",
              "    }\n",
              "</style>\n",
              "<table border=\"1\" class=\"dataframe\">\n",
              "  <thead>\n",
              "    <tr style=\"text-align: right;\">\n",
              "      <th></th>\n",
              "      <th>user</th>\n",
              "      <th>item</th>\n",
              "      <th>rating</th>\n",
              "    </tr>\n",
              "  </thead>\n",
              "  <tbody>\n",
              "    <tr>\n",
              "      <th>0</th>\n",
              "      <td>0</td>\n",
              "      <td>0</td>\n",
              "      <td>3</td>\n",
              "    </tr>\n",
              "    <tr>\n",
              "      <th>1</th>\n",
              "      <td>1</td>\n",
              "      <td>1</td>\n",
              "      <td>3</td>\n",
              "    </tr>\n",
              "    <tr>\n",
              "      <th>2</th>\n",
              "      <td>2</td>\n",
              "      <td>2</td>\n",
              "      <td>3</td>\n",
              "    </tr>\n",
              "    <tr>\n",
              "      <th>3</th>\n",
              "      <td>3</td>\n",
              "      <td>3</td>\n",
              "      <td>3</td>\n",
              "    </tr>\n",
              "    <tr>\n",
              "      <th>4</th>\n",
              "      <td>4</td>\n",
              "      <td>4</td>\n",
              "      <td>3</td>\n",
              "    </tr>\n",
              "  </tbody>\n",
              "</table>\n",
              "</div>\n",
              "    <div class=\"colab-df-buttons\">\n",
              "\n",
              "  <div class=\"colab-df-container\">\n",
              "    <button class=\"colab-df-convert\" onclick=\"convertToInteractive('df-88416637-6860-490b-b5d1-e9eb7592028a')\"\n",
              "            title=\"Convert this dataframe to an interactive table.\"\n",
              "            style=\"display:none;\">\n",
              "\n",
              "  <svg xmlns=\"http://www.w3.org/2000/svg\" height=\"24px\" viewBox=\"0 -960 960 960\">\n",
              "    <path d=\"M120-120v-720h720v720H120Zm60-500h600v-160H180v160Zm220 220h160v-160H400v160Zm0 220h160v-160H400v160ZM180-400h160v-160H180v160Zm440 0h160v-160H620v160ZM180-180h160v-160H180v160Zm440 0h160v-160H620v160Z\"/>\n",
              "  </svg>\n",
              "    </button>\n",
              "\n",
              "  <style>\n",
              "    .colab-df-container {\n",
              "      display:flex;\n",
              "      gap: 12px;\n",
              "    }\n",
              "\n",
              "    .colab-df-convert {\n",
              "      background-color: #E8F0FE;\n",
              "      border: none;\n",
              "      border-radius: 50%;\n",
              "      cursor: pointer;\n",
              "      display: none;\n",
              "      fill: #1967D2;\n",
              "      height: 32px;\n",
              "      padding: 0 0 0 0;\n",
              "      width: 32px;\n",
              "    }\n",
              "\n",
              "    .colab-df-convert:hover {\n",
              "      background-color: #E2EBFA;\n",
              "      box-shadow: 0px 1px 2px rgba(60, 64, 67, 0.3), 0px 1px 3px 1px rgba(60, 64, 67, 0.15);\n",
              "      fill: #174EA6;\n",
              "    }\n",
              "\n",
              "    .colab-df-buttons div {\n",
              "      margin-bottom: 4px;\n",
              "    }\n",
              "\n",
              "    [theme=dark] .colab-df-convert {\n",
              "      background-color: #3B4455;\n",
              "      fill: #D2E3FC;\n",
              "    }\n",
              "\n",
              "    [theme=dark] .colab-df-convert:hover {\n",
              "      background-color: #434B5C;\n",
              "      box-shadow: 0px 1px 3px 1px rgba(0, 0, 0, 0.15);\n",
              "      filter: drop-shadow(0px 1px 2px rgba(0, 0, 0, 0.3));\n",
              "      fill: #FFFFFF;\n",
              "    }\n",
              "  </style>\n",
              "\n",
              "    <script>\n",
              "      const buttonEl =\n",
              "        document.querySelector('#df-88416637-6860-490b-b5d1-e9eb7592028a button.colab-df-convert');\n",
              "      buttonEl.style.display =\n",
              "        google.colab.kernel.accessAllowed ? 'block' : 'none';\n",
              "\n",
              "      async function convertToInteractive(key) {\n",
              "        const element = document.querySelector('#df-88416637-6860-490b-b5d1-e9eb7592028a');\n",
              "        const dataTable =\n",
              "          await google.colab.kernel.invokeFunction('convertToInteractive',\n",
              "                                                    [key], {});\n",
              "        if (!dataTable) return;\n",
              "\n",
              "        const docLinkHtml = 'Like what you see? Visit the ' +\n",
              "          '<a target=\"_blank\" href=https://colab.research.google.com/notebooks/data_table.ipynb>data table notebook</a>'\n",
              "          + ' to learn more about interactive tables.';\n",
              "        element.innerHTML = '';\n",
              "        dataTable['output_type'] = 'display_data';\n",
              "        await google.colab.output.renderOutput(dataTable, element);\n",
              "        const docLink = document.createElement('div');\n",
              "        docLink.innerHTML = docLinkHtml;\n",
              "        element.appendChild(docLink);\n",
              "      }\n",
              "    </script>\n",
              "  </div>\n",
              "\n",
              "\n",
              "<div id=\"df-6b3257f2-66ed-48e8-8103-522a576ef1d6\">\n",
              "  <button class=\"colab-df-quickchart\" onclick=\"quickchart('df-6b3257f2-66ed-48e8-8103-522a576ef1d6')\"\n",
              "            title=\"Suggest charts.\"\n",
              "            style=\"display:none;\">\n",
              "\n",
              "<svg xmlns=\"http://www.w3.org/2000/svg\" height=\"24px\"viewBox=\"0 0 24 24\"\n",
              "     width=\"24px\">\n",
              "    <g>\n",
              "        <path d=\"M19 3H5c-1.1 0-2 .9-2 2v14c0 1.1.9 2 2 2h14c1.1 0 2-.9 2-2V5c0-1.1-.9-2-2-2zM9 17H7v-7h2v7zm4 0h-2V7h2v10zm4 0h-2v-4h2v4z\"/>\n",
              "    </g>\n",
              "</svg>\n",
              "  </button>\n",
              "\n",
              "<style>\n",
              "  .colab-df-quickchart {\n",
              "      --bg-color: #E8F0FE;\n",
              "      --fill-color: #1967D2;\n",
              "      --hover-bg-color: #E2EBFA;\n",
              "      --hover-fill-color: #174EA6;\n",
              "      --disabled-fill-color: #AAA;\n",
              "      --disabled-bg-color: #DDD;\n",
              "  }\n",
              "\n",
              "  [theme=dark] .colab-df-quickchart {\n",
              "      --bg-color: #3B4455;\n",
              "      --fill-color: #D2E3FC;\n",
              "      --hover-bg-color: #434B5C;\n",
              "      --hover-fill-color: #FFFFFF;\n",
              "      --disabled-bg-color: #3B4455;\n",
              "      --disabled-fill-color: #666;\n",
              "  }\n",
              "\n",
              "  .colab-df-quickchart {\n",
              "    background-color: var(--bg-color);\n",
              "    border: none;\n",
              "    border-radius: 50%;\n",
              "    cursor: pointer;\n",
              "    display: none;\n",
              "    fill: var(--fill-color);\n",
              "    height: 32px;\n",
              "    padding: 0;\n",
              "    width: 32px;\n",
              "  }\n",
              "\n",
              "  .colab-df-quickchart:hover {\n",
              "    background-color: var(--hover-bg-color);\n",
              "    box-shadow: 0 1px 2px rgba(60, 64, 67, 0.3), 0 1px 3px 1px rgba(60, 64, 67, 0.15);\n",
              "    fill: var(--button-hover-fill-color);\n",
              "  }\n",
              "\n",
              "  .colab-df-quickchart-complete:disabled,\n",
              "  .colab-df-quickchart-complete:disabled:hover {\n",
              "    background-color: var(--disabled-bg-color);\n",
              "    fill: var(--disabled-fill-color);\n",
              "    box-shadow: none;\n",
              "  }\n",
              "\n",
              "  .colab-df-spinner {\n",
              "    border: 2px solid var(--fill-color);\n",
              "    border-color: transparent;\n",
              "    border-bottom-color: var(--fill-color);\n",
              "    animation:\n",
              "      spin 1s steps(1) infinite;\n",
              "  }\n",
              "\n",
              "  @keyframes spin {\n",
              "    0% {\n",
              "      border-color: transparent;\n",
              "      border-bottom-color: var(--fill-color);\n",
              "      border-left-color: var(--fill-color);\n",
              "    }\n",
              "    20% {\n",
              "      border-color: transparent;\n",
              "      border-left-color: var(--fill-color);\n",
              "      border-top-color: var(--fill-color);\n",
              "    }\n",
              "    30% {\n",
              "      border-color: transparent;\n",
              "      border-left-color: var(--fill-color);\n",
              "      border-top-color: var(--fill-color);\n",
              "      border-right-color: var(--fill-color);\n",
              "    }\n",
              "    40% {\n",
              "      border-color: transparent;\n",
              "      border-right-color: var(--fill-color);\n",
              "      border-top-color: var(--fill-color);\n",
              "    }\n",
              "    60% {\n",
              "      border-color: transparent;\n",
              "      border-right-color: var(--fill-color);\n",
              "    }\n",
              "    80% {\n",
              "      border-color: transparent;\n",
              "      border-right-color: var(--fill-color);\n",
              "      border-bottom-color: var(--fill-color);\n",
              "    }\n",
              "    90% {\n",
              "      border-color: transparent;\n",
              "      border-bottom-color: var(--fill-color);\n",
              "    }\n",
              "  }\n",
              "</style>\n",
              "\n",
              "  <script>\n",
              "    async function quickchart(key) {\n",
              "      const quickchartButtonEl =\n",
              "        document.querySelector('#' + key + ' button');\n",
              "      quickchartButtonEl.disabled = true;  // To prevent multiple clicks.\n",
              "      quickchartButtonEl.classList.add('colab-df-spinner');\n",
              "      try {\n",
              "        const charts = await google.colab.kernel.invokeFunction(\n",
              "            'suggestCharts', [key], {});\n",
              "      } catch (error) {\n",
              "        console.error('Error during call to suggestCharts:', error);\n",
              "      }\n",
              "      quickchartButtonEl.classList.remove('colab-df-spinner');\n",
              "      quickchartButtonEl.classList.add('colab-df-quickchart-complete');\n",
              "    }\n",
              "    (() => {\n",
              "      let quickchartButtonEl =\n",
              "        document.querySelector('#df-6b3257f2-66ed-48e8-8103-522a576ef1d6 button');\n",
              "      quickchartButtonEl.style.display =\n",
              "        google.colab.kernel.accessAllowed ? 'block' : 'none';\n",
              "    })();\n",
              "  </script>\n",
              "</div>\n",
              "    </div>\n",
              "  </div>\n"
            ]
          },
          "metadata": {},
          "execution_count": 9
        }
      ],
      "source": [
        "encoded_data.head()"
      ],
      "execution_count": 9
    },
    {
      "cell_type": "markdown",
      "metadata": {
        "id": "04702641-1bf0-46fb-a6d8-61846dc88137"
      },
      "source": [
        "Then we can split the encoded dataset into training and testing datasets.\n"
      ]
    },
    {
      "cell_type": "code",
      "metadata": {
        "id": "a920aacf-ea34-4809-ba7d-133ffbb0d802"
      },
      "outputs": [],
      "source": [
        "def generate_train_test_datasets(dataset, scale=True):\n",
        "\n",
        "    min_rating = min(dataset[\"rating\"])\n",
        "    max_rating = max(dataset[\"rating\"])\n",
        "\n",
        "    dataset = dataset.sample(frac=1, random_state=42)\n",
        "    x = dataset[[\"user\", \"item\"]].values\n",
        "    if scale:\n",
        "        y = dataset[\"rating\"].apply(lambda x: (x - min_rating) / (max_rating - min_rating)).values\n",
        "    else:\n",
        "        y = dataset[\"rating\"].values\n",
        "\n",
        "    # Assuming training on 80% of the data and validating on 10%, and testing 10%\n",
        "    train_indices = int(0.8 * dataset.shape[0])\n",
        "    test_indices = int(0.9 * dataset.shape[0])\n",
        "\n",
        "    x_train, x_val, x_test, y_train, y_val, y_test = (\n",
        "        x[:train_indices],\n",
        "        x[train_indices:test_indices],\n",
        "        x[test_indices:],\n",
        "        y[:train_indices],\n",
        "        y[train_indices:test_indices],\n",
        "        y[test_indices:],\n",
        "    )\n",
        "    return x_train, x_val, x_test, y_train, y_val, y_test"
      ],
      "execution_count": 10
    },
    {
      "cell_type": "code",
      "metadata": {
        "id": "2ad47858-1b60-40e9-a028-b242765cffa0"
      },
      "outputs": [],
      "source": [
        "x_train, x_val, x_test, y_train, y_val, y_test = generate_train_test_datasets(encoded_data)"
      ],
      "execution_count": 14
    },
    {
      "cell_type": "markdown",
      "metadata": {
        "id": "defd2055-d0ae-4472-9e26-1d503907d202"
      },
      "source": [
        "If we take a look at the training input data, it is simply just a list of user indices and item indices, which is a dense format of one-hot encoding vectors.\n"
      ]
    },
    {
      "cell_type": "code",
      "metadata": {
        "colab": {
          "base_uri": "https://localhost:8080/"
        },
        "id": "3e3c1292-d606-42f8-bd68-0a48d55b1369",
        "outputId": "99c8ab29-38d0-4d2a-e49c-b69b4b9a9f8a"
      },
      "outputs": [
        {
          "output_type": "execute_result",
          "data": {
            "text/plain": [
              "array([ 8376,  7659, 10717, ...,  3409, 28761,  4973])"
            ]
          },
          "metadata": {},
          "execution_count": 15
        }
      ],
      "source": [
        "user_indices = x_train[:, 0]\n",
        "user_indices"
      ],
      "execution_count": 15
    },
    {
      "cell_type": "code",
      "metadata": {
        "colab": {
          "base_uri": "https://localhost:8080/"
        },
        "id": "e2684228-e188-48c6-a0a9-c65f4e0fc8c0",
        "outputId": "7afae83a-e3d2-43b6-e086-19b8b67094ad"
      },
      "outputs": [
        {
          "output_type": "execute_result",
          "data": {
            "text/plain": [
              "array([12, 29,  3, ..., 18, 19, 17])"
            ]
          },
          "metadata": {},
          "execution_count": 16
        }
      ],
      "source": [
        "item_indices = x_train[:, 1]\n",
        "item_indices"
      ],
      "execution_count": 16
    },
    {
      "cell_type": "markdown",
      "metadata": {
        "id": "b2db4f39-1bdf-4a00-85ce-b9151076397f"
      },
      "source": [
        "and training output labels are a list of 0s and 1s indicating if the user has completed a course or not.\n"
      ]
    },
    {
      "cell_type": "code",
      "metadata": {
        "colab": {
          "base_uri": "https://localhost:8080/"
        },
        "id": "565ed3ff-f47e-47a6-8557-89a96a4350c8",
        "outputId": "e4408eea-e4e0-4b52-e087-f95cf3a03de8"
      },
      "outputs": [
        {
          "output_type": "execute_result",
          "data": {
            "text/plain": [
              "array([1., 1., 1., ..., 1., 0., 1.])"
            ]
          },
          "metadata": {},
          "execution_count": 17
        }
      ],
      "source": [
        "y_train"
      ],
      "execution_count": 17
    },
    {
      "cell_type": "markdown",
      "metadata": {
        "id": "a987a6f4-a738-4bd1-a787-03486866398d"
      },
      "source": [
        "Then we can choose a small embedding vector size to be 16 and create a `RecommenderNet()` model to be trained\n"
      ]
    },
    {
      "cell_type": "code",
      "metadata": {
        "id": "3a01a64a-0631-44e2-b7a2-33b87ca81835"
      },
      "outputs": [],
      "source": [
        "embedding_size = 16\n",
        "model = RecommenderNet(num_users, num_items, embedding_size)"
      ],
      "execution_count": 18
    },
    {
      "cell_type": "markdown",
      "metadata": {
        "id": "38ddd9f5-80a2-4461-a52f-96fbce46e834"
      },
      "source": [
        "_TODO: Train the RecommenderNet() model_\n"
      ]
    },
    {
      "cell_type": "code",
      "metadata": {
        "colab": {
          "base_uri": "https://localhost:8080/"
        },
        "id": "7bbe604f-ddba-49f3-a1aa-5cbd354be597",
        "outputId": "4b28229e-a41b-449a-fbad-8dba065dbad7"
      },
      "outputs": [
        {
          "output_type": "stream",
          "name": "stdout",
          "text": [
            "Epoch 1/20\n",
            "329/329 [==============================] - 14s 24ms/step - loss: 0.2694 - mean_squared_error: 0.2693 - val_loss: 0.0664 - val_mean_squared_error: 0.0663\n",
            "Epoch 2/20\n",
            "329/329 [==============================] - 2s 6ms/step - loss: 0.2159 - mean_squared_error: 0.2158 - val_loss: 0.8753 - val_mean_squared_error: 0.8751\n",
            "Epoch 3/20\n",
            "329/329 [==============================] - 2s 6ms/step - loss: 0.3014 - mean_squared_error: 0.3012 - val_loss: 0.0787 - val_mean_squared_error: 0.0784\n",
            "Epoch 4/20\n",
            "329/329 [==============================] - 2s 5ms/step - loss: 0.1473 - mean_squared_error: 0.1470 - val_loss: 0.7570 - val_mean_squared_error: 0.7567\n",
            "Epoch 5/20\n",
            "329/329 [==============================] - 2s 6ms/step - loss: 0.0974 - mean_squared_error: 0.0970 - val_loss: 0.2772 - val_mean_squared_error: 0.2768\n",
            "Epoch 6/20\n",
            "329/329 [==============================] - 1s 4ms/step - loss: 0.0775 - mean_squared_error: 0.0771 - val_loss: 0.5853 - val_mean_squared_error: 0.5849\n",
            "Epoch 7/20\n",
            "329/329 [==============================] - 2s 6ms/step - loss: 0.0585 - mean_squared_error: 0.0581 - val_loss: 0.3784 - val_mean_squared_error: 0.3780\n",
            "Epoch 8/20\n",
            "329/329 [==============================] - 2s 5ms/step - loss: 0.0515 - mean_squared_error: 0.0511 - val_loss: 0.3665 - val_mean_squared_error: 0.3660\n",
            "Epoch 9/20\n",
            "329/329 [==============================] - 1s 4ms/step - loss: 0.0416 - mean_squared_error: 0.0412 - val_loss: 0.3119 - val_mean_squared_error: 0.3114\n",
            "Epoch 10/20\n",
            "329/329 [==============================] - 2s 5ms/step - loss: 0.0370 - mean_squared_error: 0.0365 - val_loss: 0.2669 - val_mean_squared_error: 0.2664\n",
            "Epoch 11/20\n",
            "329/329 [==============================] - 2s 5ms/step - loss: 0.0323 - mean_squared_error: 0.0319 - val_loss: 0.2022 - val_mean_squared_error: 0.2017\n",
            "Epoch 12/20\n",
            "329/329 [==============================] - 1s 4ms/step - loss: 0.0331 - mean_squared_error: 0.0326 - val_loss: 0.1582 - val_mean_squared_error: 0.1577\n",
            "Epoch 13/20\n",
            "329/329 [==============================] - 1s 4ms/step - loss: 0.0287 - mean_squared_error: 0.0282 - val_loss: 0.1360 - val_mean_squared_error: 0.1355\n",
            "Epoch 14/20\n",
            "329/329 [==============================] - 2s 6ms/step - loss: 0.0260 - mean_squared_error: 0.0254 - val_loss: 0.1242 - val_mean_squared_error: 0.1236\n",
            "Epoch 15/20\n",
            "329/329 [==============================] - 1s 4ms/step - loss: 0.0240 - mean_squared_error: 0.0235 - val_loss: 0.0799 - val_mean_squared_error: 0.0793\n",
            "Epoch 16/20\n",
            "329/329 [==============================] - 2s 5ms/step - loss: 0.0219 - mean_squared_error: 0.0213 - val_loss: 0.0988 - val_mean_squared_error: 0.0982\n",
            "Epoch 17/20\n",
            "329/329 [==============================] - 1s 4ms/step - loss: 0.0202 - mean_squared_error: 0.0196 - val_loss: 0.0738 - val_mean_squared_error: 0.0731\n",
            "Epoch 18/20\n",
            "329/329 [==============================] - 1s 4ms/step - loss: 0.0201 - mean_squared_error: 0.0194 - val_loss: 0.0775 - val_mean_squared_error: 0.0768\n",
            "Epoch 19/20\n",
            "329/329 [==============================] - 1s 4ms/step - loss: 0.0191 - mean_squared_error: 0.0184 - val_loss: 0.0500 - val_mean_squared_error: 0.0493\n",
            "Epoch 20/20\n",
            "329/329 [==============================] - 1s 4ms/step - loss: 0.0190 - mean_squared_error: 0.0183 - val_loss: 0.0603 - val_mean_squared_error: 0.0596\n"
          ]
        }
      ],
      "source": [
        "## WRITE YOUR CODE HERE:\n",
        "\n",
        "## - call model.compile() method to set up the loss and optimizer and metrics for the model training, you may use\n",
        "##  - - tf.keras.losses.MeanSquaredError() as training loss\n",
        "##  - - keras.optimizers.Adam() as optimizer\n",
        "##  - - tf.keras.metrics.RootMeanSquaredError() as metric\n",
        "\n",
        "## - call model.fit() to train the model\n",
        "\n",
        "## - optionally call model.save() to save the model\n",
        "\n",
        "## - plot the train and validation loss\n",
        "\n",
        "model.compile(optimizer=\"adam\", loss=\"mean_squared_error\", metrics=[\"mean_squared_error\"])\n",
        "\n",
        "## - call model.fit() to train the model\n",
        "history = model.fit(x_train, y_train, validation_split = 0.1, epochs=20, batch_size=512)\n",
        "\n"
      ],
      "execution_count": 19
    },
    {
      "cell_type": "markdown",
      "metadata": {
        "id": "460e7fd3-e9c6-414d-a589-544c67588f09"
      },
      "source": [
        "<details>\n",
        "    <summary>Click here for Hints</summary>\n",
        "    \n",
        "When you are fitting a model, dont forget to specify the parameters: `x=x_train, y=y_train`, as well as `batch_size=64`, number of `epochs=10` and of course `validation_data=(x_val, y_val)` you can also define `verbose = 1` which will show you an animated progress for the training progress for each epoch.\n",
        "    \n",
        "* You can set  `history = model.fit()` which will give you a \"loss\" dataframe which will be very useful for ploting the train and validation loss. To plot it, use plt.plot() with `history.history[\"loss\"]` as its parameter for train loss and `history.history[\"val_loss\"]` for validation loss.\n"
      ]
    },
    {
      "cell_type": "markdown",
      "metadata": {
        "id": "46692d80-a3ff-4783-aa20-292e5274cb22"
      },
      "source": [
        "_TODO:_ Evaluate the trained model\n"
      ]
    },
    {
      "cell_type": "code",
      "metadata": {
        "colab": {
          "base_uri": "https://localhost:8080/"
        },
        "id": "c0fd2b01-feb6-4ae8-916d-1e2874c4f32f",
        "outputId": "25d897bb-ad18-4216-c5f2-8d243f820293"
      },
      "outputs": [
        {
          "output_type": "stream",
          "name": "stdout",
          "text": [
            "730/730 [==============================] - 2s 3ms/step - loss: 0.2605 - mean_squared_error: 0.2598\n"
          ]
        },
        {
          "output_type": "execute_result",
          "data": {
            "text/plain": [
              "[0.2605309784412384, 0.2597864866256714]"
            ]
          },
          "metadata": {},
          "execution_count": 20
        }
      ],
      "source": [
        "### WRITE YOUR CODE HERE\n",
        "\n",
        "### - call model.evaluate() to evaluate the model\n",
        "model.evaluate(x_test, y_test)\n"
      ],
      "execution_count": 20
    },
    {
      "cell_type": "markdown",
      "metadata": {
        "id": "7bf34bc7-1352-4ad0-894b-15c8e63fa236"
      },
      "source": [
        "<details>\n",
        "    <summary>Click here for Hints</summary>\n",
        "    \n",
        "Use `x_test, y_test` as parameters for `model.evaluate()`\n"
      ]
    },
    {
      "cell_type": "markdown",
      "metadata": {
        "id": "6b2dcae8-dcdf-48cf-9a1e-b2837685f135"
      },
      "source": [
        "### Extract the user and item embedding vectors as latent feature vectors\n"
      ]
    },
    {
      "cell_type": "markdown",
      "metadata": {
        "id": "a59b09e9-4ad5-41c7-be0f-881bfc001854"
      },
      "source": [
        "Now, we have trained the `RecommenderNet()` model and it can predict the ratings with relatively small RMSE.\n",
        "\n",
        "If we print the trained model then we can see its layers and their parameters/weights.\n"
      ]
    },
    {
      "cell_type": "code",
      "metadata": {
        "colab": {
          "base_uri": "https://localhost:8080/"
        },
        "id": "8b3f3726-55e8-4fda-b9d2-6e69b9ac9bda",
        "outputId": "3e169844-4f3e-4385-b956-d9703bbbc506"
      },
      "outputs": [
        {
          "output_type": "stream",
          "name": "stdout",
          "text": [
            "Model: \"recommender_net\"\n",
            "_________________________________________________________________\n",
            " Layer (type)                Output Shape              Param #   \n",
            "=================================================================\n",
            " user_embedding_layer (Embe  multiple                  542416    \n",
            " dding)                                                          \n",
            "                                                                 \n",
            " user_bias (Embedding)       multiple                  33901     \n",
            "                                                                 \n",
            " item_embedding_layer (Embe  multiple                  2016      \n",
            " dding)                                                          \n",
            "                                                                 \n",
            " item_bias (Embedding)       multiple                  126       \n",
            "                                                                 \n",
            "=================================================================\n",
            "Total params: 578459 (2.21 MB)\n",
            "Trainable params: 578459 (2.21 MB)\n",
            "Non-trainable params: 0 (0.00 Byte)\n",
            "_________________________________________________________________\n"
          ]
        }
      ],
      "source": [
        "model.summary()"
      ],
      "execution_count": 21
    },
    {
      "cell_type": "markdown",
      "metadata": {
        "id": "db95bc15-44e4-471f-a06a-d621e766022b"
      },
      "source": [
        "In the `RecommenderNet`, the `user_embedding_layer` and `item_embedding_layer` layers contain the trained weights. Essentially, they are the latent user and item features learned by `RecommenderNet` and will be used to predict the interaction. As such, while training the neural network to predict rating, the embedding layers are simultaneously trained to extract the embedding user and item features.\n"
      ]
    },
    {
      "cell_type": "markdown",
      "metadata": {
        "id": "3218e96d-4a16-442e-b15c-df9124117f89"
      },
      "source": [
        "We can easily get the actual weights using `model.get_layer().get_weights()` methods\n"
      ]
    },
    {
      "cell_type": "code",
      "metadata": {
        "colab": {
          "base_uri": "https://localhost:8080/"
        },
        "id": "0552f4b0-31d8-4ad1-8498-e875fd3c6006",
        "outputId": "e119412a-a7e3-43d3-b4a6-c32e1727cd42"
      },
      "outputs": [
        {
          "output_type": "stream",
          "name": "stdout",
          "text": [
            "User features shape: (33901, 16)\n"
          ]
        }
      ],
      "source": [
        "# User features\n",
        "user_latent_features = model.get_layer('user_embedding_layer').get_weights()[0]\n",
        "print(f\"User features shape: {user_latent_features.shape}\")"
      ],
      "execution_count": 22
    },
    {
      "cell_type": "code",
      "metadata": {
        "colab": {
          "base_uri": "https://localhost:8080/"
        },
        "id": "ac63d0b2-3be2-4824-bb1e-7d23ecba558c",
        "outputId": "5c0fac65-6c99-4737-99a7-bcbe37134dbb"
      },
      "outputs": [
        {
          "output_type": "execute_result",
          "data": {
            "text/plain": [
              "array([ 0.01389826, -0.0435098 , -0.01194585,  0.01058238, -0.00823913,\n",
              "        0.03034975,  0.04662373, -0.05499432,  0.00444162, -0.07204227,\n",
              "        0.00803422, -0.05230254,  0.04269932,  0.04227211, -0.01749782,\n",
              "       -0.02865988], dtype=float32)"
            ]
          },
          "metadata": {},
          "execution_count": 23
        }
      ],
      "source": [
        "user_latent_features[0]"
      ],
      "execution_count": 23
    },
    {
      "cell_type": "code",
      "metadata": {
        "colab": {
          "base_uri": "https://localhost:8080/"
        },
        "id": "8271192e-8169-43a1-b2b2-ec212b801a9f",
        "outputId": "7f053136-cff2-4931-c027-39c19f6adfa9"
      },
      "outputs": [
        {
          "output_type": "stream",
          "name": "stdout",
          "text": [
            "Item features shape: (126, 16)\n"
          ]
        }
      ],
      "source": [
        "item_latent_features = model.get_layer('item_embedding_layer').get_weights()[0]\n",
        "print(f\"Item features shape: {item_latent_features.shape}\")"
      ],
      "execution_count": 24
    },
    {
      "cell_type": "code",
      "metadata": {
        "colab": {
          "base_uri": "https://localhost:8080/"
        },
        "id": "168288c6-bee9-4e1f-a250-af934bc5522c",
        "outputId": "b69c3626-74b7-409f-bef6-1ee72b7ee2d1"
      },
      "outputs": [
        {
          "output_type": "execute_result",
          "data": {
            "text/plain": [
              "array([-0.01810458,  0.0197264 ,  0.03305277, -0.00991367,  0.00544524,\n",
              "        0.02143223,  0.01342972,  0.0047871 , -0.02665789, -0.02495226,\n",
              "       -0.02316377, -0.02652383, -0.00384497,  0.02423431,  0.03032304,\n",
              "       -0.01850176], dtype=float32)"
            ]
          },
          "metadata": {},
          "execution_count": 25
        }
      ],
      "source": [
        "item_latent_features[0]"
      ],
      "execution_count": 25
    },
    {
      "cell_type": "markdown",
      "metadata": {
        "id": "bbe6f129-c84c-4727-89b1-6f9a54da60b5"
      },
      "source": [
        "Now, each user of the total 33901 users has been transformed into a 16 x 1 latent feature vector and each item of the total 126 has been transformed into a 16 x 1 latent feature vector.\n"
      ]
    },
    {
      "cell_type": "markdown",
      "metadata": {
        "id": "74baca07-acde-4786-88d6-b65a9415f3ed"
      },
      "source": [
        "### TASK (Optional): Customize the RecommenderNet to potentially improve the model performance\n"
      ]
    },
    {
      "cell_type": "markdown",
      "metadata": {
        "id": "6622be2a-5fb7-44b7-9aca-013497180418"
      },
      "source": [
        "The pre-defined `RecommenderNet()` is a actually very basic neural network, you are encouraged to customize it to see if model prediction performance will be improved. Here are some directions:\n",
        "- Hyperparameter tuning, such as the embedding layer dimensions\n",
        "- Add more hidden layers\n",
        "- Try different activation functions such as `ReLu`\n"
      ]
    },
    {
      "cell_type": "code",
      "metadata": {
        "id": "e20a4b90-090a-465a-b13b-4f2e3c8cbb3a"
      },
      "outputs": [],
      "source": [
        "## WRITE YOUR CODE HERE\n",
        "\n",
        "## Update RecommenderNet() class\n",
        "\n",
        "## compile and fit the updated model\n",
        "\n",
        "## evaluate the updated model\n"
      ],
      "execution_count": null
    },
    {
      "cell_type": "markdown",
      "metadata": {
        "id": "7e440692-1478-4c78-bd9e-a72075d3c48b"
      },
      "source": [
        "### Summary\n"
      ]
    },
    {
      "cell_type": "markdown",
      "metadata": {
        "id": "6372a6ab-939e-4021-bde4-f1ff001b8ffa"
      },
      "source": [
        "In this lab, you have learned and practiced predicting course ratings using neural networks. With a predefined and trained neural network, we can extract or embed users and items into latent feature spaces and further predict the interaction between a user and an item with the latent feature vectors.\n"
      ]
    },
    {
      "cell_type": "markdown",
      "metadata": {
        "id": "945af885-a6f2-41d5-9202-7d4244ef105e"
      },
      "source": [
        "## Authors\n"
      ]
    },
    {
      "cell_type": "markdown",
      "metadata": {
        "id": "72ed86a8-96a1-4ebf-a0da-d6af1741d602"
      },
      "source": [
        "[Yan Luo](https://www.linkedin.com/in/yan-luo-96288783/?utm_medium=Exinfluencer&utm_source=Exinfluencer&utm_content=000026UJ&utm_term=10006555&utm_id=NA-SkillsNetwork-Channel-SkillsNetworkCoursesIBMML321ENSkillsNetwork817-2022-01-01)\n"
      ]
    },
    {
      "cell_type": "markdown",
      "metadata": {
        "id": "45344dbe-00e3-4158-b8a1-14f18834498d"
      },
      "source": [
        "### Other Contributors\n"
      ]
    },
    {
      "cell_type": "markdown",
      "metadata": {
        "id": "162ef0e9-adbe-4327-8974-2e05d43ef9d5"
      },
      "source": [
        "## Change Log\n"
      ]
    },
    {
      "cell_type": "markdown",
      "metadata": {
        "id": "8928ccd7-368c-4a55-a53d-c3fb3ae6e5b0"
      },
      "source": [
        "|Date (YYYY-MM-DD)|Version|Changed By|Change Description|\n",
        "|-|-|-|-|\n",
        "|2021-10-25|1.0|Yan|Created the initial version|\n"
      ]
    },
    {
      "cell_type": "markdown",
      "metadata": {
        "id": "654257e8-413c-41a5-82ab-9c630fb7f3a9"
      },
      "source": [
        "Copyright © 2021 IBM Corporation. All rights reserved.\n"
      ]
    }
  ],
  "metadata": {
    "kernelspec": {
      "display_name": "Python",
      "language": "python",
      "name": "conda-env-python-py"
    },
    "language_info": {
      "name": ""
    },
    "colab": {
      "provenance": [],
      "gpuType": "T4"
    },
    "accelerator": "GPU"
  },
  "nbformat": 4,
  "nbformat_minor": 0
}